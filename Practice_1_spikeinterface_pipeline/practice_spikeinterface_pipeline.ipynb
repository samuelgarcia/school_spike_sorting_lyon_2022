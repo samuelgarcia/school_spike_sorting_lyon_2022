{
 "cells": [
  {
   "cell_type": "markdown",
   "metadata": {},
   "source": [
    "# SpikeInterface Tutorial -  GDR School Lyon - October 2022\n",
    "\n",
    "\n",
    "In this practice, you will use SpikeInterface to analyze a 64-channel dataset from am \"ASSY-156-P1\" probe from Cambridge Neurotech. \n",
    "The dataset is kindly provided by [Samuel McKenzie's Lab](https://mckenzieneurolab.com/). \n",
    "\n",
    "The objective of this practice is for you to familiarize with SpikeInterface on a real-world example and to explore its capabilities and functionalities.\n",
    "\n",
    "This notebook is very similar to the demo."
   ]
  },
  {
   "cell_type": "markdown",
   "metadata": {},
   "source": [
    "# Table of contents\n",
    "\n",
    "* [0. Preparation](#preparation)\n",
    "* [1. Loading the data and probe information](#loading)\n",
    "* [2. Preprocessing](#preprocessing)\n",
    "* [3. Saving and loading SpikeInterface objects](#save-load)\n",
    "* [4. Spike sorting](#spike-sorting)\n",
    "* [5. Extracting waveforms](#waveforms)\n",
    "* [6. Postprocessing](#postprocessing)\n",
    "* [7. Viewers](#viewers)\n",
    "* [8. Validation and curation](#curation)\n",
    "* [9. Spike sorting comparison](#comparison)\n"
   ]
  },
  {
   "cell_type": "markdown",
   "metadata": {},
   "source": [
    "# 0. Preparation <a class=\"anchor\" id=\"preparation\"></a>"
   ]
  },
  {
   "cell_type": "markdown",
   "metadata": {},
   "source": [
    "### Download the ephys data\n",
    "\n",
    "First, we need to download the recording (you should have this already). Feel free to use your own recordings as well later on. \n",
    "\n",
    "The dataset is called `cambridge_data.dat` and can be found on this [drive link](https://drive.google.com/drive/folders/1eWPuOd8q4MjpVpwazkWygQJDzJnToN3i) (`practice_2_real_dataset` folder). Move the dataset in the current folder.\n",
    "The recording was performed with the \"ASSY-156-P1\" probe with 4 shanks of 16 channels (in total 64 channels).\n",
    "\n",
    "\n",
    "### Import the modules\n",
    "\n",
    "Let's now import the `spikeinterface` modules that we need:"
   ]
  },
  {
   "cell_type": "code",
   "execution_count": 1,
   "metadata": {},
   "outputs": [],
   "source": [
    "%matplotlib widget"
   ]
  },
  {
   "cell_type": "code",
   "execution_count": 2,
   "metadata": {},
   "outputs": [],
   "source": [
    "import spikeinterface.full as si"
   ]
  },
  {
   "cell_type": "code",
   "execution_count": 3,
   "metadata": {},
   "outputs": [],
   "source": [
    "import matplotlib.pyplot as plt\n",
    "import numpy as np\n",
    "from pathlib import Path\n",
    "\n"
   ]
  },
  {
   "cell_type": "markdown",
   "metadata": {},
   "source": [
    "# 1. Loading recording and probe information <a class=\"anchor\" id=\"loading\"></a>"
   ]
  },
  {
   "cell_type": "code",
   "execution_count": 4,
   "metadata": {},
   "outputs": [],
   "source": [
    "base_folder = Path('/data_local/DataSpikeSorting/data_tutorial/practice_pipeline')\n"
   ]
  },
  {
   "cell_type": "code",
   "execution_count": 5,
   "metadata": {},
   "outputs": [],
   "source": [
    "# file path\n",
    "recording_file = base_folder / 'cambridge_data.dat'\n",
    "\n",
    "# parameters to load the bin/dat format\n",
    "num_channels = 64\n",
    "sampling_frequency = 20000\n",
    "gain_to_uV = 0.195\n",
    "offset_to_uV = 0\n",
    "dtype = \"int16\"\n",
    "time_axis = 0"
   ]
  },
  {
   "cell_type": "code",
   "execution_count": 6,
   "metadata": {},
   "outputs": [
    {
     "data": {
      "text/plain": [
       "\u001b[0;31mSignature:\u001b[0m\n",
       "\u001b[0msi\u001b[0m\u001b[0;34m.\u001b[0m\u001b[0mread_binary\u001b[0m\u001b[0;34m(\u001b[0m\u001b[0;34m\u001b[0m\n",
       "\u001b[0;34m\u001b[0m    \u001b[0mfile_paths\u001b[0m\u001b[0;34m,\u001b[0m\u001b[0;34m\u001b[0m\n",
       "\u001b[0;34m\u001b[0m    \u001b[0msampling_frequency\u001b[0m\u001b[0;34m,\u001b[0m\u001b[0;34m\u001b[0m\n",
       "\u001b[0;34m\u001b[0m    \u001b[0mnum_chan\u001b[0m\u001b[0;34m,\u001b[0m\u001b[0;34m\u001b[0m\n",
       "\u001b[0;34m\u001b[0m    \u001b[0mdtype\u001b[0m\u001b[0;34m,\u001b[0m\u001b[0;34m\u001b[0m\n",
       "\u001b[0;34m\u001b[0m    \u001b[0mt_starts\u001b[0m\u001b[0;34m=\u001b[0m\u001b[0;32mNone\u001b[0m\u001b[0;34m,\u001b[0m\u001b[0;34m\u001b[0m\n",
       "\u001b[0;34m\u001b[0m    \u001b[0mchannel_ids\u001b[0m\u001b[0;34m=\u001b[0m\u001b[0;32mNone\u001b[0m\u001b[0;34m,\u001b[0m\u001b[0;34m\u001b[0m\n",
       "\u001b[0;34m\u001b[0m    \u001b[0mtime_axis\u001b[0m\u001b[0;34m=\u001b[0m\u001b[0;36m0\u001b[0m\u001b[0;34m,\u001b[0m\u001b[0;34m\u001b[0m\n",
       "\u001b[0;34m\u001b[0m    \u001b[0mfile_offset\u001b[0m\u001b[0;34m=\u001b[0m\u001b[0;36m0\u001b[0m\u001b[0;34m,\u001b[0m\u001b[0;34m\u001b[0m\n",
       "\u001b[0;34m\u001b[0m    \u001b[0mgain_to_uV\u001b[0m\u001b[0;34m=\u001b[0m\u001b[0;32mNone\u001b[0m\u001b[0;34m,\u001b[0m\u001b[0;34m\u001b[0m\n",
       "\u001b[0;34m\u001b[0m    \u001b[0moffset_to_uV\u001b[0m\u001b[0;34m=\u001b[0m\u001b[0;32mNone\u001b[0m\u001b[0;34m,\u001b[0m\u001b[0;34m\u001b[0m\n",
       "\u001b[0;34m\u001b[0m    \u001b[0mis_filtered\u001b[0m\u001b[0;34m=\u001b[0m\u001b[0;32mNone\u001b[0m\u001b[0;34m,\u001b[0m\u001b[0;34m\u001b[0m\n",
       "\u001b[0;34m\u001b[0m\u001b[0;34m)\u001b[0m\u001b[0;34m\u001b[0m\u001b[0;34m\u001b[0m\u001b[0m\n",
       "\u001b[0;31mDocstring:\u001b[0m\n",
       "RecordingExtractor for a binary format\n",
       "\n",
       "Parameters\n",
       "----------\n",
       "file_paths: str or Path or list\n",
       "    Path to the binary file\n",
       "sampling_frequency: float\n",
       "    The sampling frequency\n",
       "num_chan: int\n",
       "    Number of channels\n",
       "dtype: str or dtype\n",
       "    The dtype of the binary file\n",
       "time_axis: int\n",
       "    The axis of the time dimension (default 0: F order)\n",
       "t_starts: None or list of float\n",
       "    Times in seconds of the first sample for each segment\n",
       "channel_ids: list (optional)\n",
       "    A list of channel ids\n",
       "file_offset: int (optional)\n",
       "    Number of bytes in the file to offset by during memmap instantiation.\n",
       "gain_to_uV: float or array-like (optional)\n",
       "    The gain to apply to the traces\n",
       "offset_to_uV: float or array-like\n",
       "    The offset to apply to the traces\n",
       "is_filtered: bool or None\n",
       "    If True, the recording is assumed to be filtered. If None, is_filtered is not set.\n",
       "\n",
       "Returns\n",
       "-------\n",
       "recording: BinaryRecordingExtractor\n",
       "    The recording Extractor\n",
       "\u001b[0;31mFile:\u001b[0m      ~/Documents/SpikeInterface/spikeinterface/spikeinterface/core/core_tools.py\n",
       "\u001b[0;31mType:\u001b[0m      function\n"
      ]
     },
     "metadata": {},
     "output_type": "display_data"
    }
   ],
   "source": [
    "si.read_binary?"
   ]
  },
  {
   "cell_type": "code",
   "execution_count": 7,
   "metadata": {},
   "outputs": [],
   "source": [
    "recording = si.read_binary(recording_file, num_chan=num_channels, sampling_frequency=sampling_frequency,\n",
    "                           dtype=dtype, gain_to_uV=gain_to_uV, offset_to_uV=offset_to_uV, \n",
    "                           time_axis=time_axis)"
   ]
  },
  {
   "cell_type": "markdown",
   "metadata": {},
   "source": [
    "The `read_binary()` function returns a `RecordingExtractor` object. We can print it to visualize some of its properties:"
   ]
  },
  {
   "cell_type": "code",
   "execution_count": 8,
   "metadata": {},
   "outputs": [
    {
     "name": "stdout",
     "output_type": "stream",
     "text": [
      "BinaryRecordingExtractor: 64 channels - 1 segments - 20.0kHz - 600.000s\n",
      "  file_paths: ['/data_local/DataSpikeSorting/data_tutorial/practice_pipeline/cambridge_data.dat']\n"
     ]
    }
   ],
   "source": [
    "print(recording)"
   ]
  },
  {
   "cell_type": "markdown",
   "metadata": {},
   "source": [
    "We can further `annotate` the recording to tell SI that it is not filtered yet. This will prevent further mistakes in the pipieline, such as attempting to extract waveforms from unfiltered data."
   ]
  },
  {
   "cell_type": "code",
   "execution_count": 9,
   "metadata": {
    "tags": []
   },
   "outputs": [],
   "source": [
    "recording.annotate(is_filtered=False)"
   ]
  },
  {
   "cell_type": "markdown",
   "metadata": {},
   "source": [
    "While the `read_binary()` function is part of the `core` module (as it's used internally by SI to store data in a convenient format), the `extractor` module allows you to load many file formats used in electrophysiology. \n",
    "\n",
    "The extractors available in SI are all loaded using the [NEO](https://neo.readthedocs.io/en/stable/) python package."
   ]
  },
  {
   "cell_type": "markdown",
   "metadata": {},
   "source": [
    "A `RecordingExtractor` object extracts information about channel ids, channel locations (if present), the sampling frequency of the recording, and the extracellular traces (when prompted). The `BinaryRecordingExtractor` is designed specifically for raw binary files datasets (.bin, .dat, .raw).\n",
    "\n",
    "Here we load information from the recording using the built-in functions from the RecordingExtractor"
   ]
  },
  {
   "cell_type": "code",
   "execution_count": 10,
   "metadata": {},
   "outputs": [
    {
     "name": "stdout",
     "output_type": "stream",
     "text": [
      "Channel ids: [ 0  1  2  3  4  5  6  7  8  9 10 11 12 13 14 15 16 17 18 19 20 21 22 23\n",
      " 24 25 26 27 28 29 30 31 32 33 34 35 36 37 38 39 40 41 42 43 44 45 46 47\n",
      " 48 49 50 51 52 53 54 55 56 57 58 59 60 61 62 63]\n",
      "Sampling frequency: 20000\n",
      "Number of channels: 64\n",
      "Number of segments: 1\n"
     ]
    }
   ],
   "source": [
    "channel_ids = recording.get_channel_ids()\n",
    "fs = recording.get_sampling_frequency()\n",
    "num_chan = recording.get_num_channels()\n",
    "num_segments = recording.get_num_segments()\n",
    "\n",
    "print(f'Channel ids: {channel_ids}')\n",
    "print(f'Sampling frequency: {fs}')\n",
    "print(f'Number of channels: {num_chan}')\n",
    "print(f\"Number of segments: {num_segments}\")"
   ]
  },
  {
   "cell_type": "markdown",
   "metadata": {},
   "source": [
    "### Exercise 1a) Explore traces\n",
    "\n",
    "Explore the `recording.get_traces()` function. What are its arguments? What is the shape of the returned signals? What is the unit? \n",
    "\n",
    "Try to plot the traces of some channels using `matplotlib`."
   ]
  },
  {
   "cell_type": "markdown",
   "metadata": {},
   "source": [
    "### 1a) SOLUTION"
   ]
  },
  {
   "cell_type": "code",
   "execution_count": null,
   "metadata": {},
   "outputs": [],
   "source": []
  },
  {
   "cell_type": "code",
   "execution_count": null,
   "metadata": {},
   "outputs": [],
   "source": []
  },
  {
   "cell_type": "code",
   "execution_count": null,
   "metadata": {},
   "outputs": [],
   "source": []
  },
  {
   "cell_type": "code",
   "execution_count": null,
   "metadata": {},
   "outputs": [],
   "source": []
  },
  {
   "cell_type": "markdown",
   "metadata": {},
   "source": [
    "**IMPORTANT**: The `widgets` module includes several convenient plotting functions that can be used to explore the data:"
   ]
  },
  {
   "cell_type": "code",
   "execution_count": null,
   "metadata": {},
   "outputs": [],
   "source": []
  },
  {
   "cell_type": "markdown",
   "metadata": {},
   "source": [
    "Before moving on with the analysis, we have to load the probe information. For this we will use the [ProbeInterface](https://probeinterface.readthedocs.io/en/main/index.html) package. \n",
    "\n",
    "ProbeInterface allows to easily create, manipulate, and visualize neural probes. Moreover, it comes with a wide range of IO functions to import and export existing formats. Finally, we have created a public library of commercial probes (https://gin.g-node.org/spikeinterface/probeinterface_library/) that can be retrieved with a single line of code.\n",
    "\n",
    "Let's import `probeinterface`, download the probe and plot it!"
   ]
  },
  {
   "cell_type": "code",
   "execution_count": 55,
   "metadata": {},
   "outputs": [],
   "source": [
    "import probeinterface as pi\n",
    "from probeinterface import plotting"
   ]
  },
  {
   "cell_type": "code",
   "execution_count": 56,
   "metadata": {},
   "outputs": [
    {
     "name": "stdout",
     "output_type": "stream",
     "text": [
      "cambridgeneurotech - ASSY-156-P-1 - 64ch - 4shanks\n"
     ]
    }
   ],
   "source": [
    "manufacturer = 'cambridgeneurotech'\n",
    "probe_name = 'ASSY-156-P-1'\n",
    "\n",
    "probe = pi.get_probe(manufacturer, probe_name)\n",
    "print(probe)"
   ]
  },
  {
   "cell_type": "markdown",
   "metadata": {},
   "source": [
    "In most experiments, the neural probe has a connector, that is interfaced to an headstage, which in turn connects to the acquisition system. This *pathway* usually results in a channel remapping, which means that the order of the contacts on the probe is different than the order of the recorded traces.\n",
    "\n",
    "`probeinterface` provides a growing collection of common pathways that can be loaded directly to wire a device and apply the correct channel mapping:"
   ]
  },
  {
   "cell_type": "code",
   "execution_count": 57,
   "metadata": {},
   "outputs": [
    {
     "data": {
      "text/plain": [
       "['H32>RHD2132',\n",
       " 'ASSY-156>RHD2164',\n",
       " 'ASSY-116>RHD2132',\n",
       " 'ASSY-77>Adpt.A64-Om32_2x-sm-NN>RHD2164',\n",
       " 'ASSY-77>Adpt.A64-Om32_2x-sm-NN>two_RHD2132',\n",
       " 'cambridgeneurotech_mini-amp-64']"
      ]
     },
     "execution_count": 57,
     "metadata": {},
     "output_type": "execute_result"
    }
   ],
   "source": [
    "pi.get_available_pathways()"
   ]
  },
  {
   "cell_type": "code",
   "execution_count": 58,
   "metadata": {},
   "outputs": [],
   "source": [
    "probe.wiring_to_device('ASSY-156>RHD2164')"
   ]
  },
  {
   "cell_type": "code",
   "execution_count": 59,
   "metadata": {},
   "outputs": [
    {
     "name": "stderr",
     "output_type": "stream",
     "text": [
      "/home/samuel.garcia/.virtualenvs/py38/lib/python3.8/site-packages/ipywidgets/widgets/widget.py:443: DeprecationWarning: Passing unrecognized arguments to super(Toolbar).__init__().\n",
      "__init__() missing 1 required positional argument: 'canvas'\n",
      "This is deprecated in traitlets 4.2.This error will be raised in a future release of traitlets.\n",
      "  super().__init__(**kwargs)\n",
      "/home/samuel.garcia/.virtualenvs/py38/lib/python3.8/site-packages/ipywidgets/widgets/widget.py:443: DeprecationWarning: Passing unrecognized arguments to super(Toolbar).__init__().\n",
      "__init__() missing 1 required positional argument: 'canvas'\n",
      "This is deprecated in traitlets 4.2.This error will be raised in a future release of traitlets.\n",
      "  super().__init__(**kwargs)\n"
     ]
    },
    {
     "data": {
      "text/plain": [
       "(<matplotlib.collections.PolyCollection at 0x7f0589e6beb0>,\n",
       " <matplotlib.collections.PolyCollection at 0x7f0589f28250>)"
      ]
     },
     "execution_count": 59,
     "metadata": {},
     "output_type": "execute_result"
    },
    {
     "data": {
      "application/vnd.jupyter.widget-view+json": {
       "model_id": "58635eb0a40447c9adc88e90852ff6d9",
       "version_major": 2,
       "version_minor": 0
      },
      "image/png": "[encoded data removed]",
      "text/html": [
       "\n",
       "            <div style=\"display: inline-block;\">\n",
       "                <div class=\"jupyter-widgets widget-label\" style=\"text-align: center;\">\n",
       "                    Figure\n",
       "                </div>\n",
       "                <img src='data:image/png;base64,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' width=640.0/>\n",
       "            </div>\n",
       "        "
      ],
      "text/plain": [
       "Canvas(toolbar=Toolbar(toolitems=[('Home', 'Reset original view', 'home', 'home'), ('Back', 'Back to previous …"
      ]
     },
     "metadata": {},
     "output_type": "display_data"
    }
   ],
   "source": [
    "plotting.plot_probe(probe, with_contact_id=True, with_device_index=True)"
   ]
  },
  {
   "cell_type": "markdown",
   "metadata": {},
   "source": [
    "The probe now has contact ids `id#` and device ids `dev#`! We can also visualize the probe information as a `pandas` dataframe:"
   ]
  },
  {
   "cell_type": "code",
   "execution_count": 60,
   "metadata": {},
   "outputs": [
    {
     "data": {
      "text/html": [
       "<div>\n",
       "<style scoped>\n",
       "    .dataframe tbody tr th:only-of-type {\n",
       "        vertical-align: middle;\n",
       "    }\n",
       "\n",
       "    .dataframe tbody tr th {\n",
       "        vertical-align: top;\n",
       "    }\n",
       "\n",
       "    .dataframe thead th {\n",
       "        text-align: right;\n",
       "    }\n",
       "</style>\n",
       "<table border=\"1\" class=\"dataframe\">\n",
       "  <thead>\n",
       "    <tr style=\"text-align: right;\">\n",
       "      <th></th>\n",
       "      <th>contact_ids</th>\n",
       "      <th>shank_ids</th>\n",
       "      <th>device_channel_indices</th>\n",
       "    </tr>\n",
       "  </thead>\n",
       "  <tbody>\n",
       "    <tr>\n",
       "      <th>0</th>\n",
       "      <td>1</td>\n",
       "      <td>2</td>\n",
       "      <td>47</td>\n",
       "    </tr>\n",
       "    <tr>\n",
       "      <th>1</th>\n",
       "      <td>2</td>\n",
       "      <td>2</td>\n",
       "      <td>46</td>\n",
       "    </tr>\n",
       "    <tr>\n",
       "      <th>2</th>\n",
       "      <td>3</td>\n",
       "      <td>2</td>\n",
       "      <td>45</td>\n",
       "    </tr>\n",
       "    <tr>\n",
       "      <th>3</th>\n",
       "      <td>4</td>\n",
       "      <td>2</td>\n",
       "      <td>44</td>\n",
       "    </tr>\n",
       "    <tr>\n",
       "      <th>4</th>\n",
       "      <td>5</td>\n",
       "      <td>3</td>\n",
       "      <td>43</td>\n",
       "    </tr>\n",
       "    <tr>\n",
       "      <th>...</th>\n",
       "      <td>...</td>\n",
       "      <td>...</td>\n",
       "      <td>...</td>\n",
       "    </tr>\n",
       "    <tr>\n",
       "      <th>59</th>\n",
       "      <td>60</td>\n",
       "      <td>3</td>\n",
       "      <td>52</td>\n",
       "    </tr>\n",
       "    <tr>\n",
       "      <th>60</th>\n",
       "      <td>61</td>\n",
       "      <td>3</td>\n",
       "      <td>51</td>\n",
       "    </tr>\n",
       "    <tr>\n",
       "      <th>61</th>\n",
       "      <td>62</td>\n",
       "      <td>3</td>\n",
       "      <td>50</td>\n",
       "    </tr>\n",
       "    <tr>\n",
       "      <th>62</th>\n",
       "      <td>63</td>\n",
       "      <td>3</td>\n",
       "      <td>49</td>\n",
       "    </tr>\n",
       "    <tr>\n",
       "      <th>63</th>\n",
       "      <td>64</td>\n",
       "      <td>3</td>\n",
       "      <td>48</td>\n",
       "    </tr>\n",
       "  </tbody>\n",
       "</table>\n",
       "<p>64 rows × 3 columns</p>\n",
       "</div>"
      ],
      "text/plain": [
       "   contact_ids shank_ids  device_channel_indices\n",
       "0            1         2                      47\n",
       "1            2         2                      46\n",
       "2            3         2                      45\n",
       "3            4         2                      44\n",
       "4            5         3                      43\n",
       "..         ...       ...                     ...\n",
       "59          60         3                      52\n",
       "60          61         3                      51\n",
       "61          62         3                      50\n",
       "62          63         3                      49\n",
       "63          64         3                      48\n",
       "\n",
       "[64 rows x 3 columns]"
      ]
     },
     "execution_count": 60,
     "metadata": {},
     "output_type": "execute_result"
    }
   ],
   "source": [
    "probe.to_dataframe(complete=True).loc[:, [\"contact_ids\", \"shank_ids\", \"device_channel_indices\"]]"
   ]
  },
  {
   "cell_type": "markdown",
   "metadata": {},
   "source": [
    "Note that also the `shank_id` is loaded with the probe."
   ]
  },
  {
   "cell_type": "code",
   "execution_count": 61,
   "metadata": {},
   "outputs": [],
   "source": [
    "recording_prb = recording.set_probe(probe, group_mode=\"by_shank\")"
   ]
  },
  {
   "cell_type": "markdown",
   "metadata": {},
   "source": [
    "When loading the probe, the device indices (and all the other contact properties) are automatically sorted:"
   ]
  },
  {
   "cell_type": "code",
   "execution_count": 62,
   "metadata": {},
   "outputs": [
    {
     "data": {
      "text/html": [
       "<div>\n",
       "<style scoped>\n",
       "    .dataframe tbody tr th:only-of-type {\n",
       "        vertical-align: middle;\n",
       "    }\n",
       "\n",
       "    .dataframe tbody tr th {\n",
       "        vertical-align: top;\n",
       "    }\n",
       "\n",
       "    .dataframe thead th {\n",
       "        text-align: right;\n",
       "    }\n",
       "</style>\n",
       "<table border=\"1\" class=\"dataframe\">\n",
       "  <thead>\n",
       "    <tr style=\"text-align: right;\">\n",
       "      <th></th>\n",
       "      <th>x</th>\n",
       "      <th>y</th>\n",
       "      <th>contact_shapes</th>\n",
       "      <th>width</th>\n",
       "      <th>height</th>\n",
       "      <th>shank_ids</th>\n",
       "      <th>contact_ids</th>\n",
       "      <th>device_channel_indices</th>\n",
       "      <th>si_units</th>\n",
       "      <th>plane_axis_x_0</th>\n",
       "      <th>plane_axis_x_1</th>\n",
       "      <th>plane_axis_y_0</th>\n",
       "      <th>plane_axis_y_1</th>\n",
       "    </tr>\n",
       "  </thead>\n",
       "  <tbody>\n",
       "    <tr>\n",
       "      <th>0</th>\n",
       "      <td>272.5</td>\n",
       "      <td>112.5</td>\n",
       "      <td>rect</td>\n",
       "      <td>11.0</td>\n",
       "      <td>15.0</td>\n",
       "      <td>1</td>\n",
       "      <td>48</td>\n",
       "      <td>0</td>\n",
       "      <td>um</td>\n",
       "      <td>1.0</td>\n",
       "      <td>0.0</td>\n",
       "      <td>0.0</td>\n",
       "      <td>1.0</td>\n",
       "    </tr>\n",
       "    <tr>\n",
       "      <th>1</th>\n",
       "      <td>272.5</td>\n",
       "      <td>87.5</td>\n",
       "      <td>rect</td>\n",
       "      <td>11.0</td>\n",
       "      <td>15.0</td>\n",
       "      <td>1</td>\n",
       "      <td>47</td>\n",
       "      <td>1</td>\n",
       "      <td>um</td>\n",
       "      <td>1.0</td>\n",
       "      <td>0.0</td>\n",
       "      <td>0.0</td>\n",
       "      <td>1.0</td>\n",
       "    </tr>\n",
       "    <tr>\n",
       "      <th>2</th>\n",
       "      <td>272.5</td>\n",
       "      <td>37.5</td>\n",
       "      <td>rect</td>\n",
       "      <td>11.0</td>\n",
       "      <td>15.0</td>\n",
       "      <td>1</td>\n",
       "      <td>46</td>\n",
       "      <td>2</td>\n",
       "      <td>um</td>\n",
       "      <td>1.0</td>\n",
       "      <td>0.0</td>\n",
       "      <td>0.0</td>\n",
       "      <td>1.0</td>\n",
       "    </tr>\n",
       "    <tr>\n",
       "      <th>3</th>\n",
       "      <td>250.0</td>\n",
       "      <td>75.0</td>\n",
       "      <td>rect</td>\n",
       "      <td>11.0</td>\n",
       "      <td>15.0</td>\n",
       "      <td>1</td>\n",
       "      <td>45</td>\n",
       "      <td>3</td>\n",
       "      <td>um</td>\n",
       "      <td>1.0</td>\n",
       "      <td>0.0</td>\n",
       "      <td>0.0</td>\n",
       "      <td>1.0</td>\n",
       "    </tr>\n",
       "    <tr>\n",
       "      <th>4</th>\n",
       "      <td>250.0</td>\n",
       "      <td>0.0</td>\n",
       "      <td>rect</td>\n",
       "      <td>11.0</td>\n",
       "      <td>15.0</td>\n",
       "      <td>1</td>\n",
       "      <td>44</td>\n",
       "      <td>4</td>\n",
       "      <td>um</td>\n",
       "      <td>1.0</td>\n",
       "      <td>0.0</td>\n",
       "      <td>0.0</td>\n",
       "      <td>1.0</td>\n",
       "    </tr>\n",
       "    <tr>\n",
       "      <th>...</th>\n",
       "      <td>...</td>\n",
       "      <td>...</td>\n",
       "      <td>...</td>\n",
       "      <td>...</td>\n",
       "      <td>...</td>\n",
       "      <td>...</td>\n",
       "      <td>...</td>\n",
       "      <td>...</td>\n",
       "      <td>...</td>\n",
       "      <td>...</td>\n",
       "      <td>...</td>\n",
       "      <td>...</td>\n",
       "      <td>...</td>\n",
       "    </tr>\n",
       "    <tr>\n",
       "      <th>59</th>\n",
       "      <td>500.0</td>\n",
       "      <td>150.0</td>\n",
       "      <td>rect</td>\n",
       "      <td>11.0</td>\n",
       "      <td>15.0</td>\n",
       "      <td>2</td>\n",
       "      <td>53</td>\n",
       "      <td>59</td>\n",
       "      <td>um</td>\n",
       "      <td>1.0</td>\n",
       "      <td>0.0</td>\n",
       "      <td>0.0</td>\n",
       "      <td>1.0</td>\n",
       "    </tr>\n",
       "    <tr>\n",
       "      <th>60</th>\n",
       "      <td>522.5</td>\n",
       "      <td>37.5</td>\n",
       "      <td>rect</td>\n",
       "      <td>11.0</td>\n",
       "      <td>15.0</td>\n",
       "      <td>2</td>\n",
       "      <td>52</td>\n",
       "      <td>60</td>\n",
       "      <td>um</td>\n",
       "      <td>1.0</td>\n",
       "      <td>0.0</td>\n",
       "      <td>0.0</td>\n",
       "      <td>1.0</td>\n",
       "    </tr>\n",
       "    <tr>\n",
       "      <th>61</th>\n",
       "      <td>500.0</td>\n",
       "      <td>75.0</td>\n",
       "      <td>rect</td>\n",
       "      <td>11.0</td>\n",
       "      <td>15.0</td>\n",
       "      <td>2</td>\n",
       "      <td>51</td>\n",
       "      <td>61</td>\n",
       "      <td>um</td>\n",
       "      <td>1.0</td>\n",
       "      <td>0.0</td>\n",
       "      <td>0.0</td>\n",
       "      <td>1.0</td>\n",
       "    </tr>\n",
       "    <tr>\n",
       "      <th>62</th>\n",
       "      <td>272.5</td>\n",
       "      <td>137.5</td>\n",
       "      <td>rect</td>\n",
       "      <td>11.0</td>\n",
       "      <td>15.0</td>\n",
       "      <td>1</td>\n",
       "      <td>50</td>\n",
       "      <td>62</td>\n",
       "      <td>um</td>\n",
       "      <td>1.0</td>\n",
       "      <td>0.0</td>\n",
       "      <td>0.0</td>\n",
       "      <td>1.0</td>\n",
       "    </tr>\n",
       "    <tr>\n",
       "      <th>63</th>\n",
       "      <td>522.5</td>\n",
       "      <td>87.5</td>\n",
       "      <td>rect</td>\n",
       "      <td>11.0</td>\n",
       "      <td>15.0</td>\n",
       "      <td>2</td>\n",
       "      <td>49</td>\n",
       "      <td>63</td>\n",
       "      <td>um</td>\n",
       "      <td>1.0</td>\n",
       "      <td>0.0</td>\n",
       "      <td>0.0</td>\n",
       "      <td>1.0</td>\n",
       "    </tr>\n",
       "  </tbody>\n",
       "</table>\n",
       "<p>64 rows × 13 columns</p>\n",
       "</div>"
      ],
      "text/plain": [
       "        x      y contact_shapes  width  height shank_ids contact_ids  \\\n",
       "0   272.5  112.5           rect   11.0    15.0         1          48   \n",
       "1   272.5   87.5           rect   11.0    15.0         1          47   \n",
       "2   272.5   37.5           rect   11.0    15.0         1          46   \n",
       "3   250.0   75.0           rect   11.0    15.0         1          45   \n",
       "4   250.0    0.0           rect   11.0    15.0         1          44   \n",
       "..    ...    ...            ...    ...     ...       ...         ...   \n",
       "59  500.0  150.0           rect   11.0    15.0         2          53   \n",
       "60  522.5   37.5           rect   11.0    15.0         2          52   \n",
       "61  500.0   75.0           rect   11.0    15.0         2          51   \n",
       "62  272.5  137.5           rect   11.0    15.0         1          50   \n",
       "63  522.5   87.5           rect   11.0    15.0         2          49   \n",
       "\n",
       "    device_channel_indices si_units  plane_axis_x_0  plane_axis_x_1  \\\n",
       "0                        0       um             1.0             0.0   \n",
       "1                        1       um             1.0             0.0   \n",
       "2                        2       um             1.0             0.0   \n",
       "3                        3       um             1.0             0.0   \n",
       "4                        4       um             1.0             0.0   \n",
       "..                     ...      ...             ...             ...   \n",
       "59                      59       um             1.0             0.0   \n",
       "60                      60       um             1.0             0.0   \n",
       "61                      61       um             1.0             0.0   \n",
       "62                      62       um             1.0             0.0   \n",
       "63                      63       um             1.0             0.0   \n",
       "\n",
       "    plane_axis_y_0  plane_axis_y_1  \n",
       "0              0.0             1.0  \n",
       "1              0.0             1.0  \n",
       "2              0.0             1.0  \n",
       "3              0.0             1.0  \n",
       "4              0.0             1.0  \n",
       "..             ...             ...  \n",
       "59             0.0             1.0  \n",
       "60             0.0             1.0  \n",
       "61             0.0             1.0  \n",
       "62             0.0             1.0  \n",
       "63             0.0             1.0  \n",
       "\n",
       "[64 rows x 13 columns]"
      ]
     },
     "execution_count": 62,
     "metadata": {},
     "output_type": "execute_result"
    }
   ],
   "source": [
    "probe_rec = recording_prb.get_probe()\n",
    "df = probe_rec.to_dataframe(complete=True)\n",
    "# df.loc[:, [\"contact_ids\", \"shank_ids\", \"device_channel_indices\"]]\n",
    "df"
   ]
  },
  {
   "cell_type": "code",
   "execution_count": 63,
   "metadata": {},
   "outputs": [
    {
     "name": "stdout",
     "output_type": "stream",
     "text": [
      "Channels after loading the probe file: [ 0  1  2  3  4  5  6  7  8  9 10 11 12 13 14 15 16 17 18 19 20 21 22 23\n",
      " 24 25 26 27 28 29 30 31 32 33 34 35 36 37 38 39 40 41 42 43 44 45 46 47\n",
      " 48 49 50 51 52 53 54 55 56 57 58 59 60 61 62 63]\n",
      "Channel groups after loading the probe file: [1 1 1 1 1 1 1 0 0 0 0 0 0 0 0 0 1 2 1 1 0 0 0 0 0 0 1 0 1 1 1 1 2 2 2 2 2\n",
      " 3 3 3 3 3 3 3 2 2 2 2 3 3 3 3 3 3 3 3 2 3 2 2 2 2 1 2]\n"
     ]
    }
   ],
   "source": [
    "print(f'Channels after loading the probe file: {recording_prb.get_channel_ids()}')\n",
    "print(f'Channel groups after loading the probe file: {recording_prb.get_channel_groups()}')"
   ]
  },
  {
   "cell_type": "markdown",
   "metadata": {},
   "source": [
    "### Properties \n",
    "\n",
    "`RecordingExtractor` object can have *properties*. A property is a piece of information attached to a channel, e.g. group or location.\n",
    "\n",
    "Similarly, for `SortingExtractor` objects (that we'll cover later), anything related to a unit can be stored as a property. \n",
    "\n",
    "We can check which properties are in the extractor as follows:"
   ]
  },
  {
   "cell_type": "code",
   "execution_count": 64,
   "metadata": {},
   "outputs": [
    {
     "name": "stdout",
     "output_type": "stream",
     "text": [
      "Properties before loading the probe: ['gain_to_uV', 'offset_to_uV']\n"
     ]
    }
   ],
   "source": [
    "print(\"Properties before loading the probe:\", list(recording.get_property_keys()))"
   ]
  },
  {
   "cell_type": "code",
   "execution_count": 65,
   "metadata": {},
   "outputs": [
    {
     "name": "stdout",
     "output_type": "stream",
     "text": [
      "Properties after loading the probe: ['gain_to_uV', 'offset_to_uV', 'contact_vector', 'location', 'group']\n"
     ]
    }
   ],
   "source": [
    "print(\"Properties after loading the probe:\", list(recording_prb.get_property_keys()))"
   ]
  },
  {
   "cell_type": "markdown",
   "metadata": {},
   "source": [
    "After loading the probe we now have some new properties: `contact_vector`, `location`, and `group`.\n",
    "\n",
    "Let's add some new properties! \n",
    "The first 32 channels are in the CA1 area, the second 32 are in the CA3 area:"
   ]
  },
  {
   "cell_type": "markdown",
   "metadata": {},
   "source": [
    "# 2. Preprocessing <a class=\"anchor\" id=\"preprocessing\"></a>\n",
    "\n",
    "\n",
    "Now that the probe information is loaded we can do some preprocessing using `toolkit` module.\n",
    "\n",
    "We can filter the recordings, rereference the signals to remove noise, discard noisy channels, whiten the data, remove stimulation artifacts, etc. (more info [here](https://spiketoolkit.readthedocs.io/en/latest/preprocessing_example.html)).\n",
    "\n",
    "For this notebook, let's filter the recordings and apply common median reference (CMR). All preprocessing modules return new `RecordingExtractor` objects that apply the underlying preprocessing function. This allows users to access the preprocessed data in the same way as the raw data.\n",
    "\n",
    "We will focus only on the first shank (grouo `0`) for the following analysis:"
   ]
  },
  {
   "cell_type": "code",
   "execution_count": 66,
   "metadata": {},
   "outputs": [
    {
     "name": "stdout",
     "output_type": "stream",
     "text": [
      "{0: ChannelSliceRecording: 16 channels - 1 segments - 20.0kHz - 600.000s, 1: ChannelSliceRecording: 16 channels - 1 segments - 20.0kHz - 600.000s, 2: ChannelSliceRecording: 16 channels - 1 segments - 20.0kHz - 600.000s, 3: ChannelSliceRecording: 16 channels - 1 segments - 20.0kHz - 600.000s}\n"
     ]
    }
   ],
   "source": [
    "recordings_by_group = recording_prb.split_by(\"group\")\n",
    "print(recordings_by_group)"
   ]
  },
  {
   "cell_type": "code",
   "execution_count": 67,
   "metadata": {},
   "outputs": [],
   "source": [
    "group_to_sort = 2"
   ]
  },
  {
   "cell_type": "code",
   "execution_count": 68,
   "metadata": {},
   "outputs": [],
   "source": [
    "recording_to_process = recordings_by_group[2]"
   ]
  },
  {
   "cell_type": "markdown",
   "metadata": {},
   "source": [
    "Below, we bandpass filter the recording:"
   ]
  },
  {
   "cell_type": "code",
   "execution_count": 69,
   "metadata": {},
   "outputs": [],
   "source": [
    "recording_f = si.bandpass_filter(recording_to_process, freq_min=300, freq_max=6000)\n",
    "\n"
   ]
  },
  {
   "cell_type": "code",
   "execution_count": 70,
   "metadata": {},
   "outputs": [
    {
     "name": "stderr",
     "output_type": "stream",
     "text": [
      "/home/samuel.garcia/.virtualenvs/py38/lib/python3.8/site-packages/ipywidgets/widgets/widget.py:443: DeprecationWarning: Passing unrecognized arguments to super(Toolbar).__init__().\n",
      "__init__() missing 1 required positional argument: 'canvas'\n",
      "This is deprecated in traitlets 4.2.This error will be raised in a future release of traitlets.\n",
      "  super().__init__(**kwargs)\n",
      "/home/samuel.garcia/.virtualenvs/py38/lib/python3.8/site-packages/ipywidgets/widgets/widget.py:443: DeprecationWarning: Passing unrecognized arguments to super(Toolbar).__init__().\n",
      "__init__() missing 1 required positional argument: 'canvas'\n",
      "This is deprecated in traitlets 4.2.This error will be raised in a future release of traitlets.\n",
      "  super().__init__(**kwargs)\n"
     ]
    },
    {
     "data": {
      "application/vnd.jupyter.widget-view+json": {
       "model_id": "9b358680992f49dc8cbd5087ae9b9749",
       "version_major": 2,
       "version_minor": 0
      },
      "image/png": "[encoded data removed]",
      "text/html": [
       "\n",
       "            <div style=\"display: inline-block;\">\n",
       "                <div class=\"jupyter-widgets widget-label\" style=\"text-align: center;\">\n",
       "                    Figure\n",
       "                </div>\n",
       "                <img src='data:image/png;base64,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' width=640.0/>\n",
       "            </div>\n",
       "        "
      ],
      "text/plain": [
       "Canvas(toolbar=Toolbar(toolitems=[('Home', 'Reset original view', 'home', 'home'), ('Back', 'Back to previous …"
      ]
     },
     "metadata": {},
     "output_type": "display_data"
    }
   ],
   "source": [
    "w = si.plot_timeseries(recording_f)"
   ]
  },
  {
   "cell_type": "markdown",
   "metadata": {},
   "source": [
    "We can see that the after filtering we can observe spiking activity on many channels! We can also apply other preprocessing steps to further increase the quality of the recording. "
   ]
  },
  {
   "cell_type": "markdown",
   "metadata": {},
   "source": [
    "### Exercise 2a) Explore noise reduction methods\n",
    "\n",
    "We can use the `preprocessing` module to further increase the quality of the traces before spike sorting.\n",
    "Several available preprocessors are available for this purpose.\n",
    "\n",
    "- Explore the `spikeinterface.preprocessing` module to find functions that could remove noise (e.g. by re-referencing the signal).\n",
    "\n",
    "- Choose a preprocessing step and apply it to the filtered recording (`recording_f`)\n",
    "\n",
    "- Compare the traces to the filtered traces"
   ]
  },
  {
   "cell_type": "markdown",
   "metadata": {},
   "source": [
    "### 2a) SOLUTION \n",
    "\n",
    "\n",
    "We are going to use toe `common_reference` function. Depending on the nature of noise, other preprocessing steps may be appropriate:\n",
    "\n",
    "* `remove_bad_channels`: some channels have very high noise compared to others\n",
    "* `notch_filter`: 50-60Hz line interference or localized noise sources\n",
    "* `remove_artifacts`: blank out or interpolate artifacts due to, for example, electrical stimulation"
   ]
  },
  {
   "cell_type": "code",
   "execution_count": null,
   "metadata": {},
   "outputs": [],
   "source": []
  },
  {
   "cell_type": "code",
   "execution_count": null,
   "metadata": {},
   "outputs": [],
   "source": []
  },
  {
   "cell_type": "code",
   "execution_count": null,
   "metadata": {},
   "outputs": [],
   "source": []
  },
  {
   "cell_type": "code",
   "execution_count": null,
   "metadata": {},
   "outputs": [],
   "source": []
  },
  {
   "cell_type": "code",
   "execution_count": null,
   "metadata": {},
   "outputs": [],
   "source": []
  },
  {
   "cell_type": "code",
   "execution_count": 76,
   "metadata": {},
   "outputs": [],
   "source": [
    "# Use the right object to continue with the analysis\n",
    "recording_processed = recording_XXXX"
   ]
  },
  {
   "cell_type": "markdown",
   "metadata": {},
   "source": [
    "### Exercise 2b) Visual exploration preprocessing methods with `ephyviewer`"
   ]
  },
  {
   "cell_type": "code",
   "execution_count": 77,
   "metadata": {},
   "outputs": [],
   "source": [
    "import ephyviewer"
   ]
  },
  {
   "cell_type": "code",
   "execution_count": 64,
   "metadata": {},
   "outputs": [],
   "source": [
    "app = ephyviewer.mkQApp()\n",
    "win = ephyviewer.MainViewer(debug=False, show_auto_scale=True)"
   ]
  },
  {
   "cell_type": "code",
   "execution_count": 65,
   "metadata": {},
   "outputs": [],
   "source": [
    "sig_source = ephyviewer.SpikeInterfaceRecordingSource(recording=recording_to_process)\n",
    "sig_filtered_source = ephyviewer.SpikeInterfaceRecordingSource(recording=recording_f)"
   ]
  },
  {
   "cell_type": "code",
   "execution_count": 66,
   "metadata": {},
   "outputs": [],
   "source": [
    "view1 = ephyviewer.TraceViewer(source=sig_source, name='signals')\n",
    "view1.params['scale_mode'] = 'same_for_all'\n",
    "win.add_view(view1)\n",
    "\n",
    "view2 = ephyviewer.TraceViewer(source=sig_filtered_source, name='signals filtered')\n",
    "view2.params['scale_mode'] = 'same_for_all'\n",
    "win.add_view(view2)"
   ]
  },
  {
   "cell_type": "code",
   "execution_count": 67,
   "metadata": {},
   "outputs": [],
   "source": [
    "# you can add more views here!\n",
    "\n",
    "sig_cmr_source = ephyviewer.SpikeInterfaceRecordingSource(recording=recording_cmr_global)\n",
    "\n",
    "view3 = ephyviewer.TraceViewer(source=sig_cmr_source, name='signals cmr')\n",
    "view3.params['scale_mode'] = 'same_for_all'\n",
    "win.add_view(view3)"
   ]
  },
  {
   "cell_type": "code",
   "execution_count": 68,
   "metadata": {},
   "outputs": [
    {
     "data": {
      "text/plain": [
       "0"
      ]
     },
     "execution_count": 68,
     "metadata": {},
     "output_type": "execute_result"
    }
   ],
   "source": [
    "win.show()\n",
    "app.exec_()"
   ]
  },
  {
   "cell_type": "markdown",
   "metadata": {},
   "source": [
    "<img src=\"ephyviewer.png\" />"
   ]
  },
  {
   "cell_type": "markdown",
   "metadata": {},
   "source": [
    "Since we are going to spike sort the data, let's first cut out a 5-minute recording, to speed up computations.\n",
    "\n",
    "We can easily do so with the `frame_slice()` function:"
   ]
  },
  {
   "cell_type": "code",
   "execution_count": 78,
   "metadata": {},
   "outputs": [],
   "source": [
    "fs = recording_processed.get_sampling_frequency()\n",
    "recording_sub = recording_processed.frame_slice(start_frame=0*fs, end_frame=300*fs)"
   ]
  },
  {
   "cell_type": "markdown",
   "metadata": {},
   "source": [
    "# 3. Saving and loading SpikeInterface objects <a class=\"anchor\" id=\"save-load\"></a>\n",
    "\n",
    "All operations in SpikeInterface are *lazy*, meaning that they are not performed if not needed. This is why the creation of our filter recording was almost instantaneous. However, to speed up further processing, we might want to **save** it to a file and perform those operations (eg. filters, CMR, etc.) at once. "
   ]
  },
  {
   "cell_type": "code",
   "execution_count": 79,
   "metadata": {},
   "outputs": [
    {
     "name": "stdout",
     "output_type": "stream",
     "text": [
      "write_binary_recording with n_jobs = 4 and chunk_size = 20000\n"
     ]
    },
    {
     "data": {
      "application/json": {
       "ascii": false,
       "bar_format": null,
       "colour": null,
       "elapsed": 0.02152085304260254,
       "initial": 0,
       "n": 0,
       "ncols": null,
       "nrows": 52,
       "postfix": null,
       "prefix": "write_binary_recording",
       "rate": null,
       "total": 300,
       "unit": "it",
       "unit_divisor": 1000,
       "unit_scale": false
      },
      "application/vnd.jupyter.widget-view+json": {
       "model_id": "0e8d51fed15141ea8577fe771eff1a24",
       "version_major": 2,
       "version_minor": 0
      },
      "text/plain": [
       "write_binary_recording:   0%|          | 0/300 [00:00<?, ?it/s]"
      ]
     },
     "metadata": {},
     "output_type": "display_data"
    }
   ],
   "source": [
    "recording_saved = recording_sub.save(folder=base_folder / \"preprocessed\", \n",
    "                                     n_jobs=4, chunk_duration=\"1s\", progress_bar=True, )"
   ]
  },
  {
   "cell_type": "markdown",
   "metadata": {},
   "source": [
    "The `save` returns a new *cached* recording that has all the previously loaded information:"
   ]
  },
  {
   "cell_type": "code",
   "execution_count": 80,
   "metadata": {},
   "outputs": [
    {
     "name": "stdout",
     "output_type": "stream",
     "text": [
      "Cached channels ids: [17 32 33 34 35 36 44 45 46 47 56 58 59 60 61 63]\n",
      "Channel groups after caching: [2 2 2 2 2 2 2 2 2 2 2 2 2 2 2 2]\n"
     ]
    }
   ],
   "source": [
    "print(f'Cached channels ids: {recording_saved.get_channel_ids()}')\n",
    "print(f'Channel groups after caching: {recording_saved.get_channel_groups()}')"
   ]
  },
  {
   "cell_type": "markdown",
   "metadata": {},
   "source": [
    "After saving the SI object, we can easily load it back in a new session:"
   ]
  },
  {
   "cell_type": "code",
   "execution_count": 81,
   "metadata": {},
   "outputs": [],
   "source": [
    "recording_loaded = si.load_extractor(\"preprocessed/\")"
   ]
  },
  {
   "cell_type": "markdown",
   "metadata": {},
   "source": [
    "We can double check that the traces are exactly the same as the `recording_saved` that we saved:"
   ]
  },
  {
   "cell_type": "markdown",
   "metadata": {},
   "source": [
    "# 4. Spike sorting <a class=\"anchor\" id=\"spike-sorting\"></a>\n",
    "\n",
    "We can now run spike sorting on the above recording.\n",
    "\n",
    "Let's first check the installed sorters in SpikeInterface.\n",
    "We will sort the bandpass cached filtered recording the `recording_saved` object."
   ]
  },
  {
   "cell_type": "code",
   "execution_count": 82,
   "metadata": {},
   "outputs": [
    {
     "name": "stdout",
     "output_type": "stream",
     "text": [
      "RUNNING SHELL SCRIPT: /tmp/tmp_shellscript6dyn86o4/script.sh\n",
      "RUNNING SHELL SCRIPT: /tmp/tmp_shellscripty75du9bm/script.sh\n",
      "RUNNING SHELL SCRIPT: /tmp/tmp_shellscripti5oacygq/script.sh\n",
      "RUNNING SHELL SCRIPT: /tmp/tmp_shellscriptbyuh1s19/script.sh\n",
      "RUNNING SHELL SCRIPT: /tmp/tmp_shellscriptfkfbt77r/script.sh\n",
      "RUNNING SHELL SCRIPT: /tmp/tmp_shellscript6hvl31ic/script.sh\n",
      "RUNNING SHELL SCRIPT: /tmp/tmp_shellscript5wh90opy/script.sh\n",
      "RUNNING SHELL SCRIPT: /tmp/tmp_shellscripteffy30t_/script.sh\n"
     ]
    },
    {
     "name": "stderr",
     "output_type": "stream",
     "text": [
      "/home/samuel.garcia/.virtualenvs/py38/lib/python3.8/site-packages/yass/config/config.py:11: DeprecationWarning: Using or importing the ABCs from 'collections' instead of from 'collections.abc' is deprecated since Python 3.3, and in 3.10 it will stop working\n",
      "  from collections import Mapping, MutableSequence\n",
      "/home/samuel.garcia/.virtualenvs/py38/lib/python3.8/site-packages/yass/config/config.py:11: DeprecationWarning: Using or importing the ABCs from 'collections' instead of from 'collections.abc' is deprecated since Python 3.3, and in 3.10 it will stop working\n",
      "  from collections import Mapping, MutableSequence\n"
     ]
    },
    {
     "data": {
      "text/plain": [
       "['herdingspikes',\n",
       " 'spykingcircus',\n",
       " 'spykingcircus2',\n",
       " 'tridesclous',\n",
       " 'tridesclous2']"
      ]
     },
     "execution_count": 82,
     "metadata": {},
     "output_type": "execute_result"
    }
   ],
   "source": [
    "si.installed_sorters()"
   ]
  },
  {
   "cell_type": "markdown",
   "metadata": {},
   "source": [
    "We can retrieve the parameters associated to any sorter with the `get_default_params()` function from the `sorters` module:"
   ]
  },
  {
   "cell_type": "code",
   "execution_count": 83,
   "metadata": {},
   "outputs": [],
   "source": [
    "sorter_name = 'tridesclous'"
   ]
  },
  {
   "cell_type": "code",
   "execution_count": 84,
   "metadata": {},
   "outputs": [
    {
     "name": "stderr",
     "output_type": "stream",
     "text": [
      "/home/samuel.garcia/Documents/SpikeInterface/spikeinterface/spikeinterface/sorters/sorterlist.py:98: DeprecationWarning: Use get_default_sorter_params() function instead\n",
      "  warnings.warn(\"Use get_default_sorter_params() function instead\",\n"
     ]
    },
    {
     "data": {
      "text/plain": [
       "{'freq_min': 400.0,\n",
       " 'freq_max': 5000.0,\n",
       " 'detect_sign': -1,\n",
       " 'detect_threshold': 5,\n",
       " 'common_ref_removal': False,\n",
       " 'nested_params': None,\n",
       " 'n_jobs': 1,\n",
       " 'total_memory': None,\n",
       " 'chunk_size': None,\n",
       " 'chunk_memory': None,\n",
       " 'chunk_duration': '1s',\n",
       " 'progress_bar': True}"
      ]
     },
     "execution_count": 84,
     "metadata": {},
     "output_type": "execute_result"
    }
   ],
   "source": [
    "si.get_default_params(sorter_name)"
   ]
  },
  {
   "cell_type": "code",
   "execution_count": 85,
   "metadata": {},
   "outputs": [
    {
     "name": "stderr",
     "output_type": "stream",
     "text": [
      "/home/samuel.garcia/Documents/SpikeInterface/spikeinterface/spikeinterface/sorters/sorterlist.py:128: DeprecationWarning: Use get_sorter_params_description() function instead\n",
      "  warnings.warn(\"Use get_sorter_params_description() function instead\",\n"
     ]
    },
    {
     "data": {
      "text/plain": [
       "{'freq_min': 'High-pass filter cutoff frequency',\n",
       " 'freq_max': 'Low-pass filter cutoff frequency',\n",
       " 'detect_threshold': 'Threshold for spike detection',\n",
       " 'detect_sign': 'Use -1 (negative) or 1 (positive) depending on the sign of the spikes in the recording',\n",
       " 'common_ref_removal': 'remove common reference with median',\n",
       " 'n_jobs': 'Number of jobs (when saving ti binary) - default 1',\n",
       " 'chunk_size': 'Number of samples per chunk (when saving ti binary) - default None',\n",
       " 'chunk_memory': \"Memory usage for each job (e.g. '100M', '1G') (when saving to binary) - default None\",\n",
       " 'total_memory': \"Total memory usage (e.g. '500M', '2G') (when saving to binary) - default None\",\n",
       " 'chunk_duration': \"Chunk duration in s if float or with units if str (e.g. '1s', '500ms') (when saving to binary) - default '1s'\",\n",
       " 'progress_bar': 'If True, progress bar is shown (when saving to binary) - default True'}"
      ]
     },
     "execution_count": 85,
     "metadata": {},
     "output_type": "execute_result"
    }
   ],
   "source": [
    "si.get_params_description(sorter_name)"
   ]
  },
  {
   "cell_type": "markdown",
   "metadata": {},
   "source": [
    "### Exercise 4a) Spike sort your data\n",
    "\n",
    "The `si.run_sorter()` function from the `sorters` module is where the spike sorting happens! The function returns a `SortingExtractor` object, which allows you to retrieve spiking data (e.g. unit ids, spike trains, etc.)\n",
    "\n",
    "Run a spike sorter installed on your system and explore the returned `SortingExtractor` object."
   ]
  },
  {
   "cell_type": "code",
   "execution_count": null,
   "metadata": {},
   "outputs": [],
   "source": [
    "si.run_sorter?"
   ]
  },
  {
   "cell_type": "markdown",
   "metadata": {},
   "source": [
    "To modify a parameter, we can easily pass it to the `run` function as an extra argument!\n",
    "For example, let's set the `filter` parameter to False as the recording is already preprocessed:"
   ]
  },
  {
   "cell_type": "markdown",
   "metadata": {},
   "source": [
    "### 4a) SOLUTION"
   ]
  },
  {
   "cell_type": "code",
   "execution_count": null,
   "metadata": {
    "scrolled": true
   },
   "outputs": [],
   "source": []
  },
  {
   "cell_type": "code",
   "execution_count": null,
   "metadata": {},
   "outputs": [],
   "source": []
  },
  {
   "cell_type": "code",
   "execution_count": null,
   "metadata": {},
   "outputs": [],
   "source": []
  },
  {
   "cell_type": "markdown",
   "metadata": {},
   "source": [
    "### Exercise 4b) Change a spike sorter parameter\n",
    "\n",
    "Parameters (listed above) can be directly passed as extra arguments to the `si.run_sorter()` function.\n",
    "\n",
    "Try to choose a parameter, change its default value, and run spike sorting again\n"
   ]
  },
  {
   "cell_type": "markdown",
   "metadata": {},
   "source": [
    "### 4b) SOLUTION\n",
    "\n",
    "Let's try to increase the detection threshold!"
   ]
  },
  {
   "cell_type": "code",
   "execution_count": null,
   "metadata": {},
   "outputs": [],
   "source": []
  },
  {
   "cell_type": "code",
   "execution_count": null,
   "metadata": {},
   "outputs": [],
   "source": []
  },
  {
   "cell_type": "markdown",
   "metadata": {},
   "source": [
    "## exercice 4c\n",
    "\n",
    "Run spykingcicus2"
   ]
  },
  {
   "cell_type": "markdown",
   "metadata": {},
   "source": [
    "## Solution 4c"
   ]
  },
  {
   "cell_type": "code",
   "execution_count": null,
   "metadata": {},
   "outputs": [],
   "source": []
  },
  {
   "cell_type": "code",
   "execution_count": null,
   "metadata": {},
   "outputs": [],
   "source": []
  },
  {
   "cell_type": "markdown",
   "metadata": {},
   "source": [
    "## excercie 4d (optional)\n",
    "\n",
    "Spike sort in Docker containers\n",
    "\n",
    "If you have docker installed try to play with the **docker_image** option\n",
    "For instance::\n",
    "  * `docker_image=\"spikeinterface/spyking-circus-base:1.0.7\"`\n",
    "  * `docker_image=True`\n",
    "\n",
    "And try to run spkykingcircus.\n"
   ]
  },
  {
   "cell_type": "markdown",
   "metadata": {},
   "source": [
    "## Solution 4d"
   ]
  },
  {
   "cell_type": "code",
   "execution_count": null,
   "metadata": {},
   "outputs": [],
   "source": []
  },
  {
   "cell_type": "code",
   "execution_count": null,
   "metadata": {},
   "outputs": [],
   "source": []
  },
  {
   "cell_type": "code",
   "execution_count": null,
   "metadata": {},
   "outputs": [],
   "source": []
  },
  {
   "cell_type": "markdown",
   "metadata": {},
   "source": [
    "# 5. Extracting waveforms <a class=\"anchor\" id=\"waveforms\"></a>\n",
    "\n",
    "The core of postprocessing spike sorting results revolves around extracting waveforms from paired recording-sorting objects.\n",
    "\n",
    "The `WaveformExtractor` object has convenient functions to retrieve waveforms and templates.\n",
    "Let's see how it works.\n",
    "\n",
    "To extract the waveforms, we can run:"
   ]
  },
  {
   "cell_type": "code",
   "execution_count": 110,
   "metadata": {},
   "outputs": [],
   "source": [
    "sorting = sorting_TDC"
   ]
  },
  {
   "cell_type": "code",
   "execution_count": null,
   "metadata": {},
   "outputs": [],
   "source": [
    "si.extract_waveforms?"
   ]
  },
  {
   "cell_type": "code",
   "execution_count": 113,
   "metadata": {},
   "outputs": [
    {
     "data": {
      "application/json": {
       "ascii": false,
       "bar_format": null,
       "colour": null,
       "elapsed": 0.019799232482910156,
       "initial": 0,
       "n": 0,
       "ncols": null,
       "nrows": 52,
       "postfix": null,
       "prefix": "extract waveforms memmap",
       "rate": null,
       "total": 2,
       "unit": "it",
       "unit_divisor": 1000,
       "unit_scale": false
      },
      "application/vnd.jupyter.widget-view+json": {
       "model_id": "2fa4facea51a47e996b823df63fa71ab",
       "version_major": 2,
       "version_minor": 0
      },
      "text/plain": [
       "extract waveforms memmap:   0%|          | 0/2 [00:00<?, ?it/s]"
      ]
     },
     "metadata": {},
     "output_type": "display_data"
    },
    {
     "name": "stdout",
     "output_type": "stream",
     "text": [
      "WaveformExtractor: 16 channels - 21 units - 1 segments\n",
      "  before:60 after:80 n_per_units:500\n"
     ]
    }
   ],
   "source": [
    "we = si.extract_waveforms(recording_saved, sorting_TDC, folder=base_folder/\"waveforms_TDC\", progress_bar=True,\n",
    "                          n_jobs=4, total_memory=\"500M\", overwrite=True)\n",
    "print(we)"
   ]
  },
  {
   "cell_type": "markdown",
   "metadata": {},
   "source": [
    "Now all waveforms are computed and stored in the provided `waveforms_TDC` folder. We can now retrieve waveforms and templates easily."
   ]
  },
  {
   "cell_type": "markdown",
   "metadata": {},
   "source": [
    "### Exercise 5a) Explore waveforms and templates\n",
    "\n",
    "The `WaveformExtractor` object (`we`) has convenient functions to retrieve waveforms and templates (average waveforms).\n",
    "\n",
    "- Retrieve some waveforms and templates and inspect them\n",
    "- Are waveform extracted from all spikes? If not, can you explore the function docs and find a way to compute waveforms for all spikes?\n"
   ]
  },
  {
   "cell_type": "markdown",
   "metadata": {},
   "source": [
    "### 5a) SOLUTION\n",
    "\n",
    "We can access waveforms for single units with the `get_waveforms` and `get_template` functions. \n"
   ]
  },
  {
   "cell_type": "code",
   "execution_count": null,
   "metadata": {},
   "outputs": [],
   "source": []
  },
  {
   "cell_type": "code",
   "execution_count": null,
   "metadata": {},
   "outputs": [],
   "source": []
  },
  {
   "cell_type": "markdown",
   "metadata": {},
   "source": [
    "### Exercise 5b) Find `widgets` for plotting waveforms\n",
    "\n",
    "Use the `widgets` module to visualize waveform extractor objects"
   ]
  },
  {
   "cell_type": "markdown",
   "metadata": {},
   "source": [
    "### 5b) SOLUTION"
   ]
  },
  {
   "cell_type": "code",
   "execution_count": null,
   "metadata": {},
   "outputs": [],
   "source": []
  },
  {
   "cell_type": "code",
   "execution_count": null,
   "metadata": {},
   "outputs": [],
   "source": []
  },
  {
   "cell_type": "code",
   "execution_count": null,
   "metadata": {},
   "outputs": [],
   "source": []
  },
  {
   "cell_type": "code",
   "execution_count": null,
   "metadata": {},
   "outputs": [],
   "source": []
  },
  {
   "cell_type": "code",
   "execution_count": null,
   "metadata": {},
   "outputs": [],
   "source": []
  },
  {
   "cell_type": "markdown",
   "metadata": {},
   "source": [
    "# 6. Postprocessing <a class=\"anchor\" id=\"postprocessing\"></a>"
   ]
  },
  {
   "cell_type": "markdown",
   "metadata": {},
   "source": [
    "Postprocessing spike sorting results ranges from computing additional information, such as spike amplitudes and Principal Component Analisys (PCA) scores, to computing features of the extracellular waveforms, similarity between templates and crosscorrelograms. All of this is possible with the `toolkit` module."
   ]
  },
  {
   "cell_type": "markdown",
   "metadata": {},
   "source": [
    "### PCA scores\n",
    "\n",
    "PCA scores can be easily computed with the `compute_principal_components()` function. Similarly to the `extract_waveforms`, the function returns an object of type `WaveformPrincipalComponent` that allows to retrieve all pc scores on demand."
   ]
  },
  {
   "cell_type": "code",
   "execution_count": 128,
   "metadata": {},
   "outputs": [],
   "source": [
    "pc = si.compute_principal_components(we, n_components=3)"
   ]
  },
  {
   "cell_type": "code",
   "execution_count": 133,
   "metadata": {},
   "outputs": [
    {
     "data": {
      "text/plain": [
       "(200, 3, 16)"
      ]
     },
     "execution_count": 133,
     "metadata": {},
     "output_type": "execute_result"
    }
   ],
   "source": [
    "pc0 = pc.get_projections(unit_id=0)\n",
    "# all_labels, all_pcs = pc.get_all_components()\n",
    "pc0.shape"
   ]
  },
  {
   "cell_type": "code",
   "execution_count": 135,
   "metadata": {},
   "outputs": [
    {
     "data": {
      "text/plain": [
       "(9133, 3, 16)"
      ]
     },
     "execution_count": 135,
     "metadata": {},
     "output_type": "execute_result"
    }
   ],
   "source": [
    "all_labels, all_pcs = pc.get_all_projections()\n",
    "all_pcs.shape"
   ]
  },
  {
   "cell_type": "markdown",
   "metadata": {},
   "source": [
    "For pc scores of a single unit, the dimension is (num_spikes, num_components, num_channels). \n",
    "The `get_all_projections()` function returns an array with the label/unit id for each component (`all_labels`) and an array of dimension (num_all_samples, num_components, num_channels). "
   ]
  },
  {
   "cell_type": "markdown",
   "metadata": {},
   "source": [
    "### Exercise 6a) Plot pca projections\n",
    "\n",
    "Explore the principal component space and amplitudes using `matplotlib`\n",
    "\n",
    "- Plot projections of two units on multiple channels and pc components\n"
   ]
  },
  {
   "cell_type": "markdown",
   "metadata": {
    "tags": []
   },
   "source": [
    "### 6a) SOLUTION"
   ]
  },
  {
   "cell_type": "code",
   "execution_count": null,
   "metadata": {
    "tags": []
   },
   "outputs": [],
   "source": []
  },
  {
   "cell_type": "markdown",
   "metadata": {},
   "source": [
    "### Spike amplitudes"
   ]
  },
  {
   "cell_type": "markdown",
   "metadata": {},
   "source": [
    "Spike amplitudes can be computed with the `get_spike_amplitudes` function."
   ]
  },
  {
   "cell_type": "code",
   "execution_count": 153,
   "metadata": {},
   "outputs": [
    {
     "data": {
      "application/json": {
       "ascii": false,
       "bar_format": null,
       "colour": null,
       "elapsed": 0.018796682357788086,
       "initial": 0,
       "n": 0,
       "ncols": null,
       "nrows": 52,
       "postfix": null,
       "prefix": "extract amplitudes",
       "rate": null,
       "total": 300,
       "unit": "it",
       "unit_divisor": 1000,
       "unit_scale": false
      },
      "application/vnd.jupyter.widget-view+json": {
       "model_id": "d029c06909bf4414bdc8a429976ce893",
       "version_major": 2,
       "version_minor": 0
      },
      "text/plain": [
       "extract amplitudes:   0%|          | 0/300 [00:00<?, ?it/s]"
      ]
     },
     "metadata": {},
     "output_type": "display_data"
    }
   ],
   "source": [
    "amplitudes = si.compute_spike_amplitudes(we, chunk_duration='1s', n_jobs=4, progress_bar=True)"
   ]
  },
  {
   "cell_type": "code",
   "execution_count": 167,
   "metadata": {},
   "outputs": [
    {
     "data": {
      "application/vnd.jupyter.widget-view+json": {
       "model_id": "256186c431444fc69265483d206b13dd",
       "version_major": 2,
       "version_minor": 0
      },
      "text/plain": [
       "AppLayout(children=(Checkbox(value=False, description='plot histograms', layout=Layout(grid_area='footer')), V…"
      ]
     },
     "metadata": {},
     "output_type": "display_data"
    },
    {
     "data": {
      "text/plain": [
       "<spikeinterface.widgets.ipywidgets.amplitudes.AmplitudesPlotter at 0x7f05fa385bb0>"
      ]
     },
     "execution_count": 167,
     "metadata": {},
     "output_type": "execute_result"
    }
   ],
   "source": [
    "si.plot_amplitudes(we, backend='ipywidgets')"
   ]
  },
  {
   "cell_type": "markdown",
   "metadata": {},
   "source": [
    "## unit locations"
   ]
  },
  {
   "cell_type": "code",
   "execution_count": 172,
   "metadata": {},
   "outputs": [],
   "source": [
    "unit_loc = si.compute_unit_locations(we, method='monopolar_triangulation')"
   ]
  },
  {
   "cell_type": "code",
   "execution_count": 173,
   "metadata": {},
   "outputs": [
    {
     "data": {
      "application/vnd.jupyter.widget-view+json": {
       "model_id": "9063f55aff63481fa697af3423f77ae8",
       "version_major": 2,
       "version_minor": 0
      },
      "text/plain": [
       "AppLayout(children=(VBox(children=(Label(value='units:'), SelectMultiple(index=(0, 1, 2, 3, 4, 5, 6, 7, 8, 9, …"
      ]
     },
     "metadata": {},
     "output_type": "display_data"
    },
    {
     "data": {
      "text/plain": [
       "<spikeinterface.widgets.ipywidgets.unit_locations.UnitLocationsPlotter at 0x7f05fa350dc0>"
      ]
     },
     "execution_count": 173,
     "metadata": {},
     "output_type": "execute_result"
    }
   ],
   "source": [
    "si.plot_unit_locations(we, backend='ipywidgets')"
   ]
  },
  {
   "cell_type": "markdown",
   "metadata": {},
   "source": [
    "## spike locations"
   ]
  },
  {
   "cell_type": "code",
   "execution_count": 175,
   "metadata": {},
   "outputs": [
    {
     "data": {
      "application/json": {
       "ascii": false,
       "bar_format": null,
       "colour": null,
       "elapsed": 0.018054485321044922,
       "initial": 0,
       "n": 0,
       "ncols": null,
       "nrows": 52,
       "postfix": null,
       "prefix": "localize peaks",
       "rate": null,
       "total": 300,
       "unit": "it",
       "unit_divisor": 1000,
       "unit_scale": false
      },
      "application/vnd.jupyter.widget-view+json": {
       "model_id": "f2894e2eefe74c2e881ad0345fc10d6f",
       "version_major": 2,
       "version_minor": 0
      },
      "text/plain": [
       "localize peaks:   0%|          | 0/300 [00:00<?, ?it/s]"
      ]
     },
     "metadata": {},
     "output_type": "display_data"
    }
   ],
   "source": [
    "spike_loc = si.compute_spike_locations(we, method='monopolar_triangulation', n_jobs=4, chunk_duration='1s', progress_bar=True)"
   ]
  },
  {
   "cell_type": "code",
   "execution_count": 177,
   "metadata": {},
   "outputs": [
    {
     "data": {
      "application/vnd.jupyter.widget-view+json": {
       "model_id": "58a122ea218c475fa9f9c674f5dfb1f3",
       "version_major": 2,
       "version_minor": 0
      },
      "text/plain": [
       "AppLayout(children=(VBox(children=(Label(value='units:'), SelectMultiple(index=(0, 1, 2, 3, 4, 5, 6, 7, 8, 9, …"
      ]
     },
     "metadata": {},
     "output_type": "display_data"
    },
    {
     "data": {
      "text/plain": [
       "<spikeinterface.widgets.ipywidgets.spike_locations.SpikeLocationsPlotter at 0x7f05fa2e4820>"
      ]
     },
     "execution_count": 177,
     "metadata": {},
     "output_type": "execute_result"
    }
   ],
   "source": [
    "si.plot_spike_locations(we, backend='ipywidgets')"
   ]
  },
  {
   "cell_type": "markdown",
   "metadata": {},
   "source": [
    "## correlogram"
   ]
  },
  {
   "cell_type": "code",
   "execution_count": 179,
   "metadata": {},
   "outputs": [
    {
     "data": {
      "text/plain": [
       "\u001b[0;31mSignature:\u001b[0m\n",
       "\u001b[0msi\u001b[0m\u001b[0;34m.\u001b[0m\u001b[0mcompute_correlograms\u001b[0m\u001b[0;34m(\u001b[0m\u001b[0;34m\u001b[0m\n",
       "\u001b[0;34m\u001b[0m    \u001b[0mwaveform_or_sorting_extractor\u001b[0m\u001b[0;34m,\u001b[0m\u001b[0;34m\u001b[0m\n",
       "\u001b[0;34m\u001b[0m    \u001b[0mload_if_exists\u001b[0m\u001b[0;34m=\u001b[0m\u001b[0;32mFalse\u001b[0m\u001b[0;34m,\u001b[0m\u001b[0;34m\u001b[0m\n",
       "\u001b[0;34m\u001b[0m    \u001b[0mwindow_ms\u001b[0m\u001b[0;34m:\u001b[0m \u001b[0mfloat\u001b[0m \u001b[0;34m=\u001b[0m \u001b[0;36m100.0\u001b[0m\u001b[0;34m,\u001b[0m\u001b[0;34m\u001b[0m\n",
       "\u001b[0;34m\u001b[0m    \u001b[0mbin_ms\u001b[0m\u001b[0;34m:\u001b[0m \u001b[0mfloat\u001b[0m \u001b[0;34m=\u001b[0m \u001b[0;36m5.0\u001b[0m\u001b[0;34m,\u001b[0m\u001b[0;34m\u001b[0m\n",
       "\u001b[0;34m\u001b[0m    \u001b[0msymmetrize\u001b[0m\u001b[0;34m:\u001b[0m \u001b[0mbool\u001b[0m \u001b[0;34m=\u001b[0m \u001b[0;32mTrue\u001b[0m\u001b[0;34m,\u001b[0m\u001b[0;34m\u001b[0m\n",
       "\u001b[0;34m\u001b[0m    \u001b[0mmethod\u001b[0m\u001b[0;34m:\u001b[0m \u001b[0mstr\u001b[0m \u001b[0;34m=\u001b[0m \u001b[0;34m'auto'\u001b[0m\u001b[0;34m,\u001b[0m\u001b[0;34m\u001b[0m\n",
       "\u001b[0;34m\u001b[0m\u001b[0;34m)\u001b[0m\u001b[0;34m\u001b[0m\u001b[0;34m\u001b[0m\u001b[0m\n",
       "\u001b[0;31mDocstring:\u001b[0m\n",
       "Compute auto and cross correlograms.\n",
       "\n",
       "Parameters\n",
       "----------\n",
       "waveform_or_sorting_extractor : WaveformExtractor or BaseSorting\n",
       "    If WaveformExtractor, the correlograms are saved as WaveformExtensions.\n",
       "load_if_exists : bool, optional, default: False\n",
       "    Whether to load precomputed crosscorrelograms, if they already exist.\n",
       "window_ms : float, optional\n",
       "    The window in ms, by default 100.0.\n",
       "bin_ms : float, optional\n",
       "    The bin size in ms, by default 5.0.\n",
       "symmetrize : bool, optional\n",
       "    If True, the correlograms are defined in [-window_ms/2, window_ms/2].\n",
       "    If False, they are defined in [0, window_ms/2], by default True\n",
       "method : str, optional\n",
       "    \"auto\" | \"numpy\" | \"numba\". If _auto\" and numba is installed, numba is used, by default \"auto\"\n",
       "\n",
       "Returns\n",
       "-------\n",
       "ccgs : np.array\n",
       "    Correlograms with shape (num_units, num_units, num_bins)\n",
       "bins :  np.array\n",
       "    The bin edges in ms\n",
       "\u001b[0;31mFile:\u001b[0m      ~/Documents/SpikeInterface/spikeinterface/spikeinterface/postprocessing/correlograms.py\n",
       "\u001b[0;31mType:\u001b[0m      function\n"
      ]
     },
     "metadata": {},
     "output_type": "display_data"
    }
   ],
   "source": [
    "si.compute_correlograms?"
   ]
  },
  {
   "cell_type": "code",
   "execution_count": 185,
   "metadata": {},
   "outputs": [],
   "source": [
    "cc = si.compute_correlograms(we, window_ms=100.0, bin_ms=2.)"
   ]
  },
  {
   "cell_type": "code",
   "execution_count": 186,
   "metadata": {},
   "outputs": [
    {
     "name": "stderr",
     "output_type": "stream",
     "text": [
      "/home/samuel.garcia/.virtualenvs/py38/lib/python3.8/site-packages/ipywidgets/widgets/widget.py:443: DeprecationWarning: Passing unrecognized arguments to super(Toolbar).__init__().\n",
      "__init__() missing 1 required positional argument: 'canvas'\n",
      "This is deprecated in traitlets 4.2.This error will be raised in a future release of traitlets.\n",
      "  super().__init__(**kwargs)\n",
      "/home/samuel.garcia/.virtualenvs/py38/lib/python3.8/site-packages/ipywidgets/widgets/widget.py:443: DeprecationWarning: Passing unrecognized arguments to super(Toolbar).__init__().\n",
      "__init__() missing 1 required positional argument: 'canvas'\n",
      "This is deprecated in traitlets 4.2.This error will be raised in a future release of traitlets.\n",
      "  super().__init__(**kwargs)\n"
     ]
    },
    {
     "data": {
      "text/plain": [
       "<spikeinterface.widgets.matplotlib.crosscorrelograms.CrossCorrelogramsPlotter at 0x7f0335608b50>"
      ]
     },
     "execution_count": 186,
     "metadata": {},
     "output_type": "execute_result"
    },
    {
     "data": {
      "application/vnd.jupyter.widget-view+json": {
       "model_id": "572e0775fe42438f85e3e6a35a726ed4",
       "version_major": 2,
       "version_minor": 0
      },
      "image/png": "[encoded data removed]",
      "text/html": [
       "\n",
       "            <div style=\"display: inline-block;\">\n",
       "                <div class=\"jupyter-widgets widget-label\" style=\"text-align: center;\">\n",
       "                    Figure\n",
       "                </div>\n",
       "                <img src='data:image/png;base64,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' width=640.0/>\n",
       "            </div>\n",
       "        "
      ],
      "text/plain": [
       "Canvas(toolbar=Toolbar(toolitems=[('Home', 'Reset original view', 'home', 'home'), ('Back', 'Back to previous …"
      ]
     },
     "metadata": {},
     "output_type": "display_data"
    }
   ],
   "source": [
    "si.plot_crosscorrelograms(we, unit_ids=[0,1,2])"
   ]
  },
  {
   "cell_type": "markdown",
   "metadata": {
    "tags": []
   },
   "source": [
    "# 7. Viewers <a class=\"anchor\" id=\"viewers\"></a>\n",
    "\n",
    "The `spikeinterface-gui` allows you to interactively explore a spike sorting output once waveforms are extracted.\n",
    "\n",
    "\n",
    "### Exercise 7a) Use the `spikeinterface-gui` to epxlore the sorting output\n",
    "\n",
    "Launch the `sigui` on the waveforms folder and explore all different views.\n",
    "\n",
    "- Can you find some bad units?\n",
    "- Are there missed spikes or spike sorting errors?"
   ]
  },
  {
   "cell_type": "markdown",
   "metadata": {},
   "source": [
    "For more information about these template metrics, we refer to this [documentation](https://github.com/AllenInstitute/ecephys_spike_sorting/tree/master/ecephys_spike_sorting/modules/mean_waveforms) from the Allen Institute."
   ]
  },
  {
   "cell_type": "code",
   "execution_count": null,
   "metadata": {},
   "outputs": [],
   "source": [
    "!sigui waveforms_si"
   ]
  },
  {
   "cell_type": "markdown",
   "metadata": {},
   "source": [
    "# 8.Quality metrics and curation <a class=\"anchor\" id=\"curation\"></a>\n",
    "\n",
    "The `qualitymertics` module also provides several functions to compute qualitity metrics to validate the spike sorting results.\n",
    "\n",
    "Let's see what metrics are available:"
   ]
  },
  {
   "cell_type": "code",
   "execution_count": 188,
   "metadata": {},
   "outputs": [
    {
     "name": "stdout",
     "output_type": "stream",
     "text": [
      "['num_spikes', 'firing_rate', 'presence_ratio', 'snr', 'isi_violation', 'amplitude_cutoff']\n"
     ]
    }
   ],
   "source": [
    "print(si.get_quality_metric_list())"
   ]
  },
  {
   "cell_type": "code",
   "execution_count": 192,
   "metadata": {},
   "outputs": [
    {
     "name": "stderr",
     "output_type": "stream",
     "text": [
      "/home/samuel.garcia/Documents/SpikeInterface/spikeinterface/spikeinterface/qualitymetrics/misc_metrics.py:404: UserWarning: Amplitude PDF does not have a unique minimum! More spikes might be required for a correct amplitude_cutoff computation!\n",
      "  warnings.warn(\"Amplitude PDF does not have a unique minimum! More spikes might be required for a correct \"\n"
     ]
    }
   ],
   "source": [
    "qc = si.compute_quality_metrics(we)"
   ]
  },
  {
   "cell_type": "code",
   "execution_count": 193,
   "metadata": {},
   "outputs": [
    {
     "data": {
      "text/html": [
       "<div>\n",
       "<style scoped>\n",
       "    .dataframe tbody tr th:only-of-type {\n",
       "        vertical-align: middle;\n",
       "    }\n",
       "\n",
       "    .dataframe tbody tr th {\n",
       "        vertical-align: top;\n",
       "    }\n",
       "\n",
       "    .dataframe thead th {\n",
       "        text-align: right;\n",
       "    }\n",
       "</style>\n",
       "<table border=\"1\" class=\"dataframe\">\n",
       "  <thead>\n",
       "    <tr style=\"text-align: right;\">\n",
       "      <th></th>\n",
       "      <th>num_spikes</th>\n",
       "      <th>firing_rate</th>\n",
       "      <th>presence_ratio</th>\n",
       "      <th>snr</th>\n",
       "      <th>isi_violations_ratio</th>\n",
       "      <th>isi_violations_rate</th>\n",
       "      <th>isi_violations_count</th>\n",
       "      <th>amplitude_cutoff</th>\n",
       "      <th>isolation_distance</th>\n",
       "      <th>l_ratio</th>\n",
       "      <th>d_prime</th>\n",
       "    </tr>\n",
       "  </thead>\n",
       "  <tbody>\n",
       "    <tr>\n",
       "      <th>0</th>\n",
       "      <td>200</td>\n",
       "      <td>0.666667</td>\n",
       "      <td>0.46</td>\n",
       "      <td>33.192932</td>\n",
       "      <td>0.000000</td>\n",
       "      <td>0.000000</td>\n",
       "      <td>0</td>\n",
       "      <td>0.004064</td>\n",
       "      <td>191.292839</td>\n",
       "      <td>0.011059</td>\n",
       "      <td>8.805304</td>\n",
       "    </tr>\n",
       "    <tr>\n",
       "      <th>1</th>\n",
       "      <td>1565</td>\n",
       "      <td>5.216667</td>\n",
       "      <td>0.95</td>\n",
       "      <td>20.553419</td>\n",
       "      <td>0.081658</td>\n",
       "      <td>0.006667</td>\n",
       "      <td>2</td>\n",
       "      <td>0.000518</td>\n",
       "      <td>221.483966</td>\n",
       "      <td>0.000835</td>\n",
       "      <td>10.160661</td>\n",
       "    </tr>\n",
       "    <tr>\n",
       "      <th>2</th>\n",
       "      <td>444</td>\n",
       "      <td>1.480000</td>\n",
       "      <td>0.85</td>\n",
       "      <td>16.730797</td>\n",
       "      <td>0.507264</td>\n",
       "      <td>0.003333</td>\n",
       "      <td>1</td>\n",
       "      <td>0.033018</td>\n",
       "      <td>105.112232</td>\n",
       "      <td>0.087036</td>\n",
       "      <td>5.107828</td>\n",
       "    </tr>\n",
       "    <tr>\n",
       "      <th>3</th>\n",
       "      <td>2775</td>\n",
       "      <td>9.250000</td>\n",
       "      <td>1.00</td>\n",
       "      <td>32.735031</td>\n",
       "      <td>0.000000</td>\n",
       "      <td>0.000000</td>\n",
       "      <td>0</td>\n",
       "      <td>0.000518</td>\n",
       "      <td>473.054277</td>\n",
       "      <td>0.027085</td>\n",
       "      <td>11.055240</td>\n",
       "    </tr>\n",
       "    <tr>\n",
       "      <th>4</th>\n",
       "      <td>147</td>\n",
       "      <td>0.490000</td>\n",
       "      <td>0.49</td>\n",
       "      <td>13.731914</td>\n",
       "      <td>0.000000</td>\n",
       "      <td>0.000000</td>\n",
       "      <td>0</td>\n",
       "      <td>0.001760</td>\n",
       "      <td>78.747641</td>\n",
       "      <td>0.058923</td>\n",
       "      <td>3.781103</td>\n",
       "    </tr>\n",
       "    <tr>\n",
       "      <th>5</th>\n",
       "      <td>5076</td>\n",
       "      <td>16.920000</td>\n",
       "      <td>1.00</td>\n",
       "      <td>16.441628</td>\n",
       "      <td>0.228986</td>\n",
       "      <td>0.196667</td>\n",
       "      <td>59</td>\n",
       "      <td>0.000518</td>\n",
       "      <td>102.787904</td>\n",
       "      <td>0.079952</td>\n",
       "      <td>5.755089</td>\n",
       "    </tr>\n",
       "    <tr>\n",
       "      <th>6</th>\n",
       "      <td>176</td>\n",
       "      <td>0.586667</td>\n",
       "      <td>0.59</td>\n",
       "      <td>13.962802</td>\n",
       "      <td>0.000000</td>\n",
       "      <td>0.000000</td>\n",
       "      <td>0</td>\n",
       "      <td>0.245189</td>\n",
       "      <td>62.477094</td>\n",
       "      <td>0.318613</td>\n",
       "      <td>4.110322</td>\n",
       "    </tr>\n",
       "    <tr>\n",
       "      <th>7</th>\n",
       "      <td>1134</td>\n",
       "      <td>3.780000</td>\n",
       "      <td>0.98</td>\n",
       "      <td>5.916869</td>\n",
       "      <td>2.021842</td>\n",
       "      <td>0.086667</td>\n",
       "      <td>26</td>\n",
       "      <td>0.000518</td>\n",
       "      <td>33.184760</td>\n",
       "      <td>3.939651</td>\n",
       "      <td>1.543783</td>\n",
       "    </tr>\n",
       "    <tr>\n",
       "      <th>8</th>\n",
       "      <td>2279</td>\n",
       "      <td>7.596667</td>\n",
       "      <td>0.99</td>\n",
       "      <td>15.164406</td>\n",
       "      <td>0.173282</td>\n",
       "      <td>0.030000</td>\n",
       "      <td>9</td>\n",
       "      <td>0.006518</td>\n",
       "      <td>74.920717</td>\n",
       "      <td>0.089894</td>\n",
       "      <td>5.827863</td>\n",
       "    </tr>\n",
       "    <tr>\n",
       "      <th>9</th>\n",
       "      <td>453</td>\n",
       "      <td>1.510000</td>\n",
       "      <td>0.92</td>\n",
       "      <td>9.711898</td>\n",
       "      <td>0.974616</td>\n",
       "      <td>0.006667</td>\n",
       "      <td>2</td>\n",
       "      <td>0.091606</td>\n",
       "      <td>47.528500</td>\n",
       "      <td>1.220595</td>\n",
       "      <td>3.528490</td>\n",
       "    </tr>\n",
       "    <tr>\n",
       "      <th>10</th>\n",
       "      <td>368</td>\n",
       "      <td>1.226667</td>\n",
       "      <td>0.70</td>\n",
       "      <td>13.860858</td>\n",
       "      <td>0.738422</td>\n",
       "      <td>0.003333</td>\n",
       "      <td>1</td>\n",
       "      <td>0.000703</td>\n",
       "      <td>80.702854</td>\n",
       "      <td>0.104813</td>\n",
       "      <td>6.535672</td>\n",
       "    </tr>\n",
       "    <tr>\n",
       "      <th>11</th>\n",
       "      <td>345</td>\n",
       "      <td>1.150000</td>\n",
       "      <td>0.55</td>\n",
       "      <td>11.844931</td>\n",
       "      <td>0.840160</td>\n",
       "      <td>0.003333</td>\n",
       "      <td>1</td>\n",
       "      <td>0.000750</td>\n",
       "      <td>57.831798</td>\n",
       "      <td>0.535204</td>\n",
       "      <td>4.620874</td>\n",
       "    </tr>\n",
       "    <tr>\n",
       "      <th>12</th>\n",
       "      <td>14232</td>\n",
       "      <td>47.440000</td>\n",
       "      <td>1.00</td>\n",
       "      <td>12.604568</td>\n",
       "      <td>0.364849</td>\n",
       "      <td>2.463333</td>\n",
       "      <td>739</td>\n",
       "      <td>0.000519</td>\n",
       "      <td>67.647500</td>\n",
       "      <td>0.261069</td>\n",
       "      <td>3.676910</td>\n",
       "    </tr>\n",
       "    <tr>\n",
       "      <th>13</th>\n",
       "      <td>1714</td>\n",
       "      <td>5.713333</td>\n",
       "      <td>1.00</td>\n",
       "      <td>6.280356</td>\n",
       "      <td>0.544626</td>\n",
       "      <td>0.053333</td>\n",
       "      <td>16</td>\n",
       "      <td>0.000518</td>\n",
       "      <td>53.303806</td>\n",
       "      <td>0.772662</td>\n",
       "      <td>3.543410</td>\n",
       "    </tr>\n",
       "    <tr>\n",
       "      <th>14</th>\n",
       "      <td>1118</td>\n",
       "      <td>3.726667</td>\n",
       "      <td>0.98</td>\n",
       "      <td>5.343544</td>\n",
       "      <td>1.520092</td>\n",
       "      <td>0.063333</td>\n",
       "      <td>19</td>\n",
       "      <td>0.000518</td>\n",
       "      <td>39.539214</td>\n",
       "      <td>2.306837</td>\n",
       "      <td>2.120336</td>\n",
       "    </tr>\n",
       "    <tr>\n",
       "      <th>15</th>\n",
       "      <td>2258</td>\n",
       "      <td>7.526667</td>\n",
       "      <td>1.00</td>\n",
       "      <td>5.211512</td>\n",
       "      <td>1.529843</td>\n",
       "      <td>0.260000</td>\n",
       "      <td>78</td>\n",
       "      <td>0.011569</td>\n",
       "      <td>36.773476</td>\n",
       "      <td>2.977286</td>\n",
       "      <td>1.244383</td>\n",
       "    </tr>\n",
       "    <tr>\n",
       "      <th>16</th>\n",
       "      <td>1755</td>\n",
       "      <td>5.850000</td>\n",
       "      <td>1.00</td>\n",
       "      <td>5.643795</td>\n",
       "      <td>0.811682</td>\n",
       "      <td>0.083333</td>\n",
       "      <td>25</td>\n",
       "      <td>0.000518</td>\n",
       "      <td>40.430127</td>\n",
       "      <td>2.057387</td>\n",
       "      <td>1.737199</td>\n",
       "    </tr>\n",
       "    <tr>\n",
       "      <th>17</th>\n",
       "      <td>3072</td>\n",
       "      <td>10.240000</td>\n",
       "      <td>1.00</td>\n",
       "      <td>7.190369</td>\n",
       "      <td>0.275506</td>\n",
       "      <td>0.086667</td>\n",
       "      <td>26</td>\n",
       "      <td>0.007296</td>\n",
       "      <td>51.716032</td>\n",
       "      <td>0.911710</td>\n",
       "      <td>2.194764</td>\n",
       "    </tr>\n",
       "    <tr>\n",
       "      <th>18</th>\n",
       "      <td>717</td>\n",
       "      <td>2.390000</td>\n",
       "      <td>0.48</td>\n",
       "      <td>5.468222</td>\n",
       "      <td>8.753348</td>\n",
       "      <td>0.150000</td>\n",
       "      <td>45</td>\n",
       "      <td>0.000518</td>\n",
       "      <td>43.779347</td>\n",
       "      <td>1.520927</td>\n",
       "      <td>2.819791</td>\n",
       "    </tr>\n",
       "    <tr>\n",
       "      <th>19</th>\n",
       "      <td>1862</td>\n",
       "      <td>6.206667</td>\n",
       "      <td>0.67</td>\n",
       "      <td>5.352014</td>\n",
       "      <td>7.989515</td>\n",
       "      <td>0.923333</td>\n",
       "      <td>277</td>\n",
       "      <td>0.018480</td>\n",
       "      <td>36.675754</td>\n",
       "      <td>2.448937</td>\n",
       "      <td>1.811020</td>\n",
       "    </tr>\n",
       "    <tr>\n",
       "      <th>20</th>\n",
       "      <td>4013</td>\n",
       "      <td>13.376667</td>\n",
       "      <td>1.00</td>\n",
       "      <td>6.477801</td>\n",
       "      <td>0.136611</td>\n",
       "      <td>0.073333</td>\n",
       "      <td>22</td>\n",
       "      <td>0.000518</td>\n",
       "      <td>67.984329</td>\n",
       "      <td>0.241420</td>\n",
       "      <td>3.094256</td>\n",
       "    </tr>\n",
       "  </tbody>\n",
       "</table>\n",
       "</div>"
      ],
      "text/plain": [
       "    num_spikes  firing_rate  presence_ratio        snr  isi_violations_ratio  \\\n",
       "0          200     0.666667            0.46  33.192932              0.000000   \n",
       "1         1565     5.216667            0.95  20.553419              0.081658   \n",
       "2          444     1.480000            0.85  16.730797              0.507264   \n",
       "3         2775     9.250000            1.00  32.735031              0.000000   \n",
       "4          147     0.490000            0.49  13.731914              0.000000   \n",
       "5         5076    16.920000            1.00  16.441628              0.228986   \n",
       "6          176     0.586667            0.59  13.962802              0.000000   \n",
       "7         1134     3.780000            0.98   5.916869              2.021842   \n",
       "8         2279     7.596667            0.99  15.164406              0.173282   \n",
       "9          453     1.510000            0.92   9.711898              0.974616   \n",
       "10         368     1.226667            0.70  13.860858              0.738422   \n",
       "11         345     1.150000            0.55  11.844931              0.840160   \n",
       "12       14232    47.440000            1.00  12.604568              0.364849   \n",
       "13        1714     5.713333            1.00   6.280356              0.544626   \n",
       "14        1118     3.726667            0.98   5.343544              1.520092   \n",
       "15        2258     7.526667            1.00   5.211512              1.529843   \n",
       "16        1755     5.850000            1.00   5.643795              0.811682   \n",
       "17        3072    10.240000            1.00   7.190369              0.275506   \n",
       "18         717     2.390000            0.48   5.468222              8.753348   \n",
       "19        1862     6.206667            0.67   5.352014              7.989515   \n",
       "20        4013    13.376667            1.00   6.477801              0.136611   \n",
       "\n",
       "    isi_violations_rate  isi_violations_count  amplitude_cutoff  \\\n",
       "0              0.000000                     0          0.004064   \n",
       "1              0.006667                     2          0.000518   \n",
       "2              0.003333                     1          0.033018   \n",
       "3              0.000000                     0          0.000518   \n",
       "4              0.000000                     0          0.001760   \n",
       "5              0.196667                    59          0.000518   \n",
       "6              0.000000                     0          0.245189   \n",
       "7              0.086667                    26          0.000518   \n",
       "8              0.030000                     9          0.006518   \n",
       "9              0.006667                     2          0.091606   \n",
       "10             0.003333                     1          0.000703   \n",
       "11             0.003333                     1          0.000750   \n",
       "12             2.463333                   739          0.000519   \n",
       "13             0.053333                    16          0.000518   \n",
       "14             0.063333                    19          0.000518   \n",
       "15             0.260000                    78          0.011569   \n",
       "16             0.083333                    25          0.000518   \n",
       "17             0.086667                    26          0.007296   \n",
       "18             0.150000                    45          0.000518   \n",
       "19             0.923333                   277          0.018480   \n",
       "20             0.073333                    22          0.000518   \n",
       "\n",
       "    isolation_distance   l_ratio    d_prime  \n",
       "0           191.292839  0.011059   8.805304  \n",
       "1           221.483966  0.000835  10.160661  \n",
       "2           105.112232  0.087036   5.107828  \n",
       "3           473.054277  0.027085  11.055240  \n",
       "4            78.747641  0.058923   3.781103  \n",
       "5           102.787904  0.079952   5.755089  \n",
       "6            62.477094  0.318613   4.110322  \n",
       "7            33.184760  3.939651   1.543783  \n",
       "8            74.920717  0.089894   5.827863  \n",
       "9            47.528500  1.220595   3.528490  \n",
       "10           80.702854  0.104813   6.535672  \n",
       "11           57.831798  0.535204   4.620874  \n",
       "12           67.647500  0.261069   3.676910  \n",
       "13           53.303806  0.772662   3.543410  \n",
       "14           39.539214  2.306837   2.120336  \n",
       "15           36.773476  2.977286   1.244383  \n",
       "16           40.430127  2.057387   1.737199  \n",
       "17           51.716032  0.911710   2.194764  \n",
       "18           43.779347  1.520927   2.819791  \n",
       "19           36.675754  2.448937   1.811020  \n",
       "20           67.984329  0.241420   3.094256  "
      ]
     },
     "metadata": {},
     "output_type": "display_data"
    }
   ],
   "source": [
    "display(qc)"
   ]
  },
  {
   "cell_type": "markdown",
   "metadata": {},
   "source": [
    "For more information about these waveform features, we refer to this 2 doc\n",
    "\n",
    "  * [Allen documentation](https://allensdk.readthedocs.io/en/latest/_static/examples/nb/ecephys_quality_metrics.html) from Josh Siegle.\n",
    "\n",
    "  * [spikeinterface documentation](https://spikeinterface.readthedocs.io/en/latest/module_qualitymetrics.html) from SI team"
   ]
  },
  {
   "cell_type": "markdown",
   "metadata": {},
   "source": [
    "## Automatic curation based on quality metrics"
   ]
  },
  {
   "cell_type": "markdown",
   "metadata": {},
   "source": [
    "A viable option to curate (or at least pre-curate) a spike sorting output is to filter units based on quality metrics. As we have already computed quality metrics a few lines above, we can simply filter the `qc` dataframe based on some thresholds.\n",
    "\n",
    "Here, we'll only keep units with an SNR > 5 and an ISI violation threshold < 0.2:"
   ]
  },
  {
   "cell_type": "code",
   "execution_count": 194,
   "metadata": {},
   "outputs": [],
   "source": [
    "snr_thresh = 5\n",
    "isi_viol_thresh = 0.2"
   ]
  },
  {
   "cell_type": "markdown",
   "metadata": {},
   "source": [
    "A straightforward way to filter a pandas dataframe is via the `query`.\n",
    "We first define our query (make sure the names match the column names of the dataframe):"
   ]
  },
  {
   "cell_type": "code",
   "execution_count": 195,
   "metadata": {},
   "outputs": [
    {
     "name": "stdout",
     "output_type": "stream",
     "text": [
      "snr > 5 & isi_violations_rate < 0.2\n"
     ]
    }
   ],
   "source": [
    "our_query = f\"snr > {snr_thresh} & isi_violations_rate < {isi_viol_thresh}\"\n",
    "print(our_query)"
   ]
  },
  {
   "cell_type": "markdown",
   "metadata": {},
   "source": [
    "and then we can use the query to select units:"
   ]
  },
  {
   "cell_type": "code",
   "execution_count": 196,
   "metadata": {},
   "outputs": [],
   "source": [
    "keep_units = qc.query(our_query)\n",
    "keep_unit_ids = keep_units.index.values"
   ]
  },
  {
   "cell_type": "code",
   "execution_count": 197,
   "metadata": {},
   "outputs": [
    {
     "name": "stdout",
     "output_type": "stream",
     "text": [
      "Number of units before curation: 21\n",
      "Number of units after curation: 18\n"
     ]
    }
   ],
   "source": [
    "sorting_auto = sorting.select_units(keep_unit_ids)\n",
    "print(f\"Number of units before curation: {len(sorting.get_unit_ids())}\")\n",
    "print(f\"Number of units after curation: {len(sorting_auto.get_unit_ids())}\")"
   ]
  },
  {
   "cell_type": "markdown",
   "metadata": {},
   "source": [
    "### 8a) Extract waveforms on the curated sorting and explore the output in the spikeinterface-gui\n",
    "\n",
    "Re-extract waveforms using the curated output and explore the results.\n",
    "\n",
    "Is the spike sorting quality improved?"
   ]
  },
  {
   "cell_type": "markdown",
   "metadata": {},
   "source": [
    "### 8a) SOLUTION\n",
    "\n"
   ]
  },
  {
   "cell_type": "code",
   "execution_count": null,
   "metadata": {
    "scrolled": true
   },
   "outputs": [],
   "source": []
  },
  {
   "cell_type": "code",
   "execution_count": null,
   "metadata": {},
   "outputs": [],
   "source": []
  },
  {
   "cell_type": "markdown",
   "metadata": {},
   "source": [
    "# 9. Exporters <a class=\"anchor\" id=\"exporters\"></a>\n",
    "\n",
    "The `exporters` module provides functions to export the spike sorting results to different frameworks."
   ]
  },
  {
   "cell_type": "markdown",
   "metadata": {},
   "source": [
    "## Export to Phy for manual curation\n",
    "\n",
    "To perform manual curation we can export the data to [Phy](https://github.com/cortex-lab/phy). "
   ]
  },
  {
   "cell_type": "code",
   "execution_count": 200,
   "metadata": {},
   "outputs": [],
   "source": [
    "from spikeinterface.exporters import export_to_phy"
   ]
  },
  {
   "cell_type": "code",
   "execution_count": 201,
   "metadata": {},
   "outputs": [
    {
     "name": "stdout",
     "output_type": "stream",
     "text": [
      "write_binary_recording with n_jobs = 4 and chunk_size = 20000\n"
     ]
    },
    {
     "data": {
      "application/json": {
       "ascii": false,
       "bar_format": null,
       "colour": null,
       "elapsed": 0.021582841873168945,
       "initial": 0,
       "n": 0,
       "ncols": null,
       "nrows": 52,
       "postfix": null,
       "prefix": "write_binary_recording",
       "rate": null,
       "total": 300,
       "unit": "it",
       "unit_divisor": 1000,
       "unit_scale": false
      },
      "application/vnd.jupyter.widget-view+json": {
       "model_id": "aba0e869180d4e8fb94f674c6d4984a8",
       "version_major": 2,
       "version_minor": 0
      },
      "text/plain": [
       "write_binary_recording:   0%|          | 0/300 [00:00<?, ?it/s]"
      ]
     },
     "metadata": {},
     "output_type": "display_data"
    },
    {
     "data": {
      "application/json": {
       "ascii": false,
       "bar_format": null,
       "colour": null,
       "elapsed": 0.019812822341918945,
       "initial": 0,
       "n": 0,
       "ncols": null,
       "nrows": 52,
       "postfix": null,
       "prefix": "extract amplitudes",
       "rate": null,
       "total": 300,
       "unit": "it",
       "unit_divisor": 1000,
       "unit_scale": false
      },
      "application/vnd.jupyter.widget-view+json": {
       "model_id": "cd6c1c8bdb8f48329e0d1da99a8d3ba6",
       "version_major": 2,
       "version_minor": 0
      },
      "text/plain": [
       "extract amplitudes:   0%|          | 0/300 [00:00<?, ?it/s]"
      ]
     },
     "metadata": {},
     "output_type": "display_data"
    },
    {
     "data": {
      "application/json": {
       "ascii": false,
       "bar_format": null,
       "colour": null,
       "elapsed": 0.017360687255859375,
       "initial": 0,
       "n": 0,
       "ncols": null,
       "nrows": 52,
       "postfix": null,
       "prefix": "extract PCs",
       "rate": null,
       "total": 300,
       "unit": "it",
       "unit_divisor": 1000,
       "unit_scale": false
      },
      "application/vnd.jupyter.widget-view+json": {
       "model_id": "ec290a200ac84030a303f850cb440b6e",
       "version_major": 2,
       "version_minor": 0
      },
      "text/plain": [
       "extract PCs:   0%|          | 0/300 [00:00<?, ?it/s]"
      ]
     },
     "metadata": {},
     "output_type": "display_data"
    },
    {
     "name": "stdout",
     "output_type": "stream",
     "text": [
      "Run:\n",
      "phy template-gui  /data_local/DataSpikeSorting/data_tutorial/practice_pipeline/phy/params.py\n"
     ]
    }
   ],
   "source": [
    "export_to_phy(we_curated, output_folder=base_folder/'phy',\n",
    "              n_jobs=4, progress_bar=True, chunk_duration='1s')"
   ]
  },
  {
   "cell_type": "code",
   "execution_count": 177,
   "metadata": {},
   "outputs": [],
   "source": [
    "%%capture --no-display\n",
    "!phy template-gui phy/params.py"
   ]
  },
  {
   "cell_type": "markdown",
   "metadata": {},
   "source": [
    "<img src=\"phy.png\" />"
   ]
  },
  {
   "cell_type": "markdown",
   "metadata": {},
   "source": [
    "After curating the results we can reload it using the `PhySortingExtractor` and exclude the units that we labeled as `noise`:"
   ]
  },
  {
   "cell_type": "code",
   "execution_count": 179,
   "metadata": {},
   "outputs": [],
   "source": [
    "sorting_phy_curated = se.PhySortingExtractor('phy/', exclude_cluster_groups=['noise'])"
   ]
  },
  {
   "cell_type": "code",
   "execution_count": 182,
   "metadata": {},
   "outputs": [
    {
     "name": "stdout",
     "output_type": "stream",
     "text": [
      "Number of units before curation: 13\n",
      "Number of units after curation: 10\n"
     ]
    }
   ],
   "source": [
    "print(f\"Number of units before curation: {len(sorting_auto.get_unit_ids())}\")\n",
    "\n",
    "# Manually labeled 3 units as noise\n",
    "print(f\"Number of units after curation: {len(sorting_phy_curated.get_unit_ids())}\")"
   ]
  },
  {
   "cell_type": "markdown",
   "metadata": {},
   "source": [
    "## Export spike sorting report\n",
    "\n",
    "The SpikeInterface report automatically saves summary and unit-specific views to save and inspect your spike sorting output."
   ]
  },
  {
   "cell_type": "code",
   "execution_count": 203,
   "metadata": {},
   "outputs": [],
   "source": [
    "from spikeinterface.exporters import export_report"
   ]
  },
  {
   "cell_type": "code",
   "execution_count": 204,
   "metadata": {},
   "outputs": [],
   "source": [
    "%%capture --no-display\n",
    "export_report(waveform_extractor=we_curated, output_folder=base_folder/\"SI_report\", format=\"pdf\", \n",
    "              metrics=qc)"
   ]
  },
  {
   "cell_type": "code",
   "execution_count": null,
   "metadata": {},
   "outputs": [],
   "source": []
  }
 ],
 "metadata": {
  "kernelspec": {
   "display_name": "Python 3 (ipykernel)",
   "language": "python",
   "name": "python3"
  },
  "language_info": {
   "codemirror_mode": {
    "name": "ipython",
    "version": 3
   },
   "file_extension": ".py",
   "mimetype": "text/x-python",
   "name": "python",
   "nbconvert_exporter": "python",
   "pygments_lexer": "ipython3",
   "version": "3.8.10"
  },
  "pycharm": {
   "stem_cell": {
    "cell_type": "raw",
    "metadata": {
     "collapsed": false
    },
    "source": []
   }
  }
 },
 "nbformat": 4,
 "nbformat_minor": 4
}
