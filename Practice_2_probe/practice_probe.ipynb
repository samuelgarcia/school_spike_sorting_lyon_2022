{
 "cells": [
  {
   "cell_type": "markdown",
   "metadata": {},
   "source": [
    "# Practice 1 : The design of the probe layout\n",
    "\n",
    "\n",
    "probeinterface is a tool to handle the design of the probe layout, that will be used by all modern spike sorting algorithms. Indeed, since spike sorters are making use of the spatial positions of the channels to reconstruct the extracellular waveforms elicited during the spike of a single cell, it is crucial to know where channels are located. If you are luky, then such a probe layout is already avalaible, and you can use it instantaneously. But most of the time, depending of your recording setup/probe, you need to create one. In such a file, you must specify what are your channels, where they are in space, and what is the mapping between your recording file and the recording setup.\n",
    "\n",
    "For this pratice you will need to have a look at\n",
    "\n",
    "  * [probeinterface documentation](https://probeinterface.readthedocs.io/en/main/)\n",
    "  * [probeinterface examples](https://probeinterface.readthedocs.io/en/main/examples/index.html)\n"
   ]
  },
  {
   "cell_type": "code",
   "execution_count": 5,
   "metadata": {},
   "outputs": [],
   "source": [
    "%matplotlib inline\n",
    "# %matplotlib widget"
   ]
  },
  {
   "cell_type": "code",
   "execution_count": 6,
   "metadata": {},
   "outputs": [],
   "source": [
    "import probeinterface as pi\n",
    "from probeinterface.plotting import plot_probe\n",
    "\n",
    "import numpy as np \n",
    "import pandas as pd\n",
    "import matplotlib.pyplot as plt\n"
   ]
  },
  {
   "cell_type": "markdown",
   "metadata": {},
   "source": [
    "## Using already implemented probes (such as cambridge neurotech)"
   ]
  },
  {
   "cell_type": "code",
   "execution_count": 7,
   "metadata": {},
   "outputs": [
    {
     "name": "stdout",
     "output_type": "stream",
     "text": [
      "cambridgeneurotech - ASSY-236-H6 - 64ch\n"
     ]
    }
   ],
   "source": [
    "manufacturer = 'cambridgeneurotech'\n",
    "probe_name = 'ASSY-236-H6'\n",
    "\n",
    "probe = pi.get_probe(manufacturer, probe_name)\n",
    "print(probe)"
   ]
  },
  {
   "cell_type": "code",
   "execution_count": 8,
   "metadata": {},
   "outputs": [
    {
     "data": {
      "text/plain": [
       "(<matplotlib.collections.PolyCollection at 0x7fac1375a130>,\n",
       " <matplotlib.collections.PolyCollection at 0x7fac13706940>)"
      ]
     },
     "execution_count": 8,
     "metadata": {},
     "output_type": "execute_result"
    },
    {
     "data": {
      "image/png": "[encoded data removed]",
      "text/plain": [
       "<Figure size 432x288 with 1 Axes>"
      ]
     },
     "metadata": {
      "needs_background": "light"
     },
     "output_type": "display_data"
    }
   ],
   "source": [
    "plot_probe(probe, with_contact_id=True)"
   ]
  },
  {
   "cell_type": "markdown",
   "metadata": {},
   "source": [
    "## Let's implement the neuronexus A1x32-Poly2-10mm-50s-177 probe manually\n",
    "\n",
    "  * https://www.neuronexus.com/files/catalog/2021-Probe-Catalog.pdf\n",
    "\n",
    "\n",
    "\n",
    "<img src=\"./neuronexus_A1xPoly32.png\" width=\"400\"/>\n",
    "\n"
   ]
  },
  {
   "cell_type": "markdown",
   "metadata": {},
   "source": [
    "## Step 1 : constructing a probe from channel positions\n",
    "\n",
    "using the `Probe()` object, some methods such as\n",
    "  * `Probe.set_contacts()`\n",
    "  * `Probe.set_contact_ids()`\n",
    "and using the file **'A1x32-Poly2-10mm-50s-177.csv'** let's try to construct the probe as an exercice.\n",
    "\n",
    "Once this is done, then plot it with `plot_probe()` and use the `with_contact_id=True` option\n"
   ]
  },
  {
   "cell_type": "code",
   "execution_count": null,
   "metadata": {},
   "outputs": [],
   "source": []
  },
  {
   "cell_type": "code",
   "execution_count": null,
   "metadata": {},
   "outputs": [],
   "source": []
  },
  {
   "cell_type": "code",
   "execution_count": null,
   "metadata": {},
   "outputs": [],
   "source": []
  },
  {
   "cell_type": "markdown",
   "metadata": {},
   "source": [
    "## Step 2 : setting the contour of your probe\n",
    "\n",
    "As you can see, you need to specify a contour for your probe. Contour can be set :\n",
    "  * automatiocally with dummy shape `probe.create_auto_shape()`\n",
    "  * or manuualy with `probe.set_planar_contour'()`\n",
    "\n",
    "\n",
    "Here is the polygon shape of our probe, that can be reused later: \n",
    "\n",
    "`contour_polygon =  [[-25, 800],\n",
    "                   [-11, 0],\n",
    "                   [43.3/2, -75.],\n",
    "                   [54.3, 0],\n",
    "                   [68.3, 800]]`\n"
   ]
  },
  {
   "cell_type": "code",
   "execution_count": null,
   "metadata": {},
   "outputs": [],
   "source": []
  },
  {
   "cell_type": "code",
   "execution_count": null,
   "metadata": {},
   "outputs": [],
   "source": []
  },
  {
   "cell_type": "markdown",
   "metadata": {},
   "source": [
    "## Step 3 : saving \"probe unwired\" into a json file\n",
    "\n",
    "Using the function `write_probeinterface()`, you can save the probe to a file. Inspect the file and have a look to the way this is constructed."
   ]
  },
  {
   "cell_type": "code",
   "execution_count": null,
   "metadata": {},
   "outputs": [],
   "source": []
  },
  {
   "cell_type": "code",
   "execution_count": null,
   "metadata": {},
   "outputs": [],
   "source": []
  },
  {
   "cell_type": "markdown",
   "metadata": {},
   "source": [
    "## Step 4 : wiring to device channel (aka pathway or mapping)\n",
    "\n",
    "Now lets do the \"wiring\" aka channel mapping. Lets connect our probe to RHD2132 INtan headstage with the H32 connector.\n",
    "\n",
    "You can get some help by looking at https://intantech.com/RHD_headstages.html?tabSelect=RHD32ch&yPos=0\n",
    "\n",
    "And also, note that the mapping depend on the connector of the probe, see this https://www.neuronexus.com/files/probemapping/32-channel/H32-Maps.pdf\n",
    "\n",
    "\n",
    "<img src=\"./Intan_RDH2132_overview.png\" width=\"400\"/>\n",
    "<img src=\"./Intan_RDH2132_connector_pineout.png\" width=\"400\"/>\n",
    "<img src=\"./H32_neuronexus_connector_omnetics.png\" width=\"400\"/>\n",
    "\n",
    "\n",
    "Probeinterface have 2 ways to make the mapping:\n",
    "\n",
    " 1. Manually with : `probe.set_device_channel_indices()`\n",
    " 2. Automatically with `probe.wiring_to_device()`\n",
    " \n",
    "  \n",
    "Use the `with_contact_id=True` and `with_device_index=True` option for plor_probe. Check with dataframe the mapping\n"
   ]
  },
  {
   "cell_type": "code",
   "execution_count": null,
   "metadata": {},
   "outputs": [],
   "source": []
  },
  {
   "cell_type": "code",
   "execution_count": null,
   "metadata": {},
   "outputs": [],
   "source": []
  },
  {
   "cell_type": "code",
   "execution_count": null,
   "metadata": {},
   "outputs": [],
   "source": []
  },
  {
   "cell_type": "markdown",
   "metadata": {},
   "source": [
    "## Step 5 : saving the \"probe wired\" into json\n",
    "\n",
    "Now that the probe has been wired, let's save it into a file and inspect the resulting file"
   ]
  },
  {
   "cell_type": "code",
   "execution_count": null,
   "metadata": {},
   "outputs": [],
   "source": []
  },
  {
   "cell_type": "code",
   "execution_count": null,
   "metadata": {},
   "outputs": [],
   "source": []
  },
  {
   "cell_type": "code",
   "execution_count": null,
   "metadata": {},
   "outputs": [],
   "source": []
  },
  {
   "cell_type": "code",
   "execution_count": null,
   "metadata": {},
   "outputs": [],
   "source": []
  }
 ],
 "metadata": {
  "kernelspec": {
   "display_name": "Python 3",
   "language": "python",
   "name": "python3"
  },
  "language_info": {
   "codemirror_mode": {
    "name": "ipython",
    "version": 3
   },
   "file_extension": ".py",
   "mimetype": "text/x-python",
   "name": "python",
   "nbconvert_exporter": "python",
   "pygments_lexer": "ipython3",
   "version": "3.8.10"
  }
 },
 "nbformat": 4,
 "nbformat_minor": 4
}
